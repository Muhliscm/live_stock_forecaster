{
 "cells": [
  {
   "cell_type": "code",
   "execution_count": 90,
   "metadata": {},
   "outputs": [],
   "source": [
    "import pandas as np\n",
    "import yfinance as yf\n",
    "import numpy as np\n",
    "import matplotlib.pyplot as plt"
   ]
  },
  {
   "cell_type": "code",
   "execution_count": null,
   "metadata": {},
   "outputs": [],
   "source": []
  },
  {
   "cell_type": "code",
   "execution_count": 141,
   "metadata": {},
   "outputs": [],
   "source": [
    "tick = yf.Ticker(\"AAPL\")"
   ]
  },
  {
   "cell_type": "code",
   "execution_count": 142,
   "metadata": {},
   "outputs": [],
   "source": [
    "stock_hist = tick.history(\"max\")"
   ]
  },
  {
   "cell_type": "code",
   "execution_count": 143,
   "metadata": {},
   "outputs": [],
   "source": [
    "df = stock_hist.Close"
   ]
  },
  {
   "cell_type": "markdown",
   "metadata": {},
   "source": [
    "### Preprocessing"
   ]
  },
  {
   "cell_type": "code",
   "execution_count": 144,
   "metadata": {},
   "outputs": [],
   "source": [
    "df = df.to_frame()\n"
   ]
  },
  {
   "cell_type": "code",
   "execution_count": 145,
   "metadata": {},
   "outputs": [],
   "source": [
    "df = df.reset_index()"
   ]
  },
  {
   "cell_type": "code",
   "execution_count": 146,
   "metadata": {},
   "outputs": [],
   "source": [
    "#df.head()"
   ]
  },
  {
   "cell_type": "code",
   "execution_count": 147,
   "metadata": {},
   "outputs": [],
   "source": [
    "import datetime as datetime\n",
    "import pandas as pd\n",
    "training_dates = pd.to_datetime(df[\"Date\"])"
   ]
  },
  {
   "cell_type": "code",
   "execution_count": 148,
   "metadata": {},
   "outputs": [],
   "source": [
    "df_for_training = df[[\"Close\"]]"
   ]
  },
  {
   "cell_type": "code",
   "execution_count": 149,
   "metadata": {},
   "outputs": [],
   "source": [
    "#df_for_training.head()"
   ]
  },
  {
   "cell_type": "code",
   "execution_count": 150,
   "metadata": {},
   "outputs": [
    {
     "data": {
      "text/plain": [
       "array([[-0.44449279],\n",
       "       [-0.44467436],\n",
       "       [-0.44491647],\n",
       "       ...,\n",
       "       [ 5.50670745],\n",
       "       [ 5.6166709 ],\n",
       "       [ 5.66696956]])"
      ]
     },
     "execution_count": 150,
     "metadata": {},
     "output_type": "execute_result"
    }
   ],
   "source": [
    "from sklearn.preprocessing import StandardScaler\n",
    "sc = StandardScaler()\n",
    "sc.fit_transform(df_for_training)"
   ]
  },
  {
   "cell_type": "code",
   "execution_count": 151,
   "metadata": {},
   "outputs": [],
   "source": [
    "# Creating dataset\n",
    "train_X = []\n",
    "train_Y = []\n",
    "#n_past = 200\n",
    "n_past = 14\n",
    "n_future = 1"
   ]
  },
  {
   "cell_type": "code",
   "execution_count": 152,
   "metadata": {},
   "outputs": [],
   "source": [
    "df_for_training = df_for_training.values"
   ]
  },
  {
   "cell_type": "code",
   "execution_count": 153,
   "metadata": {},
   "outputs": [],
   "source": [
    "#df_for_training"
   ]
  },
  {
   "cell_type": "code",
   "execution_count": 154,
   "metadata": {},
   "outputs": [],
   "source": [
    "for i in range(len(df_for_training)-n_past-1):\n",
    "\t\ta = df_for_training[i:(i+n_past), 0]   ###i=0, 0,1,2,3-----99   100 \n",
    "\t\ttrain_X.append(a)\n",
    "\t\ttrain_Y.append(df_for_training[i + n_past, 0])"
   ]
  },
  {
   "cell_type": "code",
   "execution_count": 155,
   "metadata": {},
   "outputs": [],
   "source": [
    "# converting to array\n",
    "train_X = np.array(train_X)\n",
    "train_Y = np.array(train_Y)"
   ]
  },
  {
   "cell_type": "code",
   "execution_count": 156,
   "metadata": {},
   "outputs": [
    {
     "name": "stdout",
     "output_type": "stream",
     "text": [
      "(10364, 14) (10364,)\n"
     ]
    }
   ],
   "source": [
    "print(train_X.shape, train_Y.shape)\n"
   ]
  },
  {
   "cell_type": "code",
   "execution_count": 157,
   "metadata": {},
   "outputs": [
    {
     "data": {
      "text/plain": [
       "(10364, 14, 1)"
      ]
     },
     "execution_count": 157,
     "metadata": {},
     "output_type": "execute_result"
    }
   ],
   "source": [
    "train_X = train_X.reshape(train_X.shape[0], train_X.shape[1], n_future)\n",
    "train_X.shape"
   ]
  },
  {
   "cell_type": "code",
   "execution_count": 158,
   "metadata": {},
   "outputs": [
    {
     "data": {
      "text/plain": [
       "(10364, 1)"
      ]
     },
     "execution_count": 158,
     "metadata": {},
     "output_type": "execute_result"
    }
   ],
   "source": [
    "train_Y = train_Y.reshape(train_Y.shape[0], n_future)\n",
    "train_Y.shape"
   ]
  },
  {
   "cell_type": "markdown",
   "metadata": {},
   "source": [
    "Model building"
   ]
  },
  {
   "cell_type": "code",
   "execution_count": 159,
   "metadata": {},
   "outputs": [],
   "source": [
    "# from tensorflow.keras.models import Sequential\n",
    "# from tensorflow.keras.layers import Dense\n",
    "# from tensorflow.keras.layers import LSTM"
   ]
  },
  {
   "cell_type": "code",
   "execution_count": 160,
   "metadata": {},
   "outputs": [],
   "source": [
    "# model=Sequential()\n",
    "# model.add(LSTM(50, return_sequences=True,input_shape=(train_X.shape[1], train_X.shape[2])))\n",
    "# model.add(LSTM(50,  return_sequences=True))\n",
    "# model.add(LSTM(50))\n",
    "# model.add(Dense(train_Y.shape[1]))\n",
    "# model.compile(loss='mean_squared_error',optimizer='adam')"
   ]
  },
  {
   "cell_type": "code",
   "execution_count": 161,
   "metadata": {},
   "outputs": [],
   "source": [
    "# fiting model\n",
    "#hist = model.fit(train_X, train_Y, epochs=100, batch_size=64, validation_split=0.1, verbose=1)"
   ]
  },
  {
   "cell_type": "code",
   "execution_count": 162,
   "metadata": {},
   "outputs": [],
   "source": [
    "#saving the model\n",
    "#model.save(\"de_lstm_14days.h5\")"
   ]
  },
  {
   "cell_type": "code",
   "execution_count": 163,
   "metadata": {},
   "outputs": [],
   "source": [
    "# loading model from tensorflow import keras\n",
    "from tensorflow import keras\n",
    "model = keras.models.load_model(\"de_lstm_14days.h5\")"
   ]
  },
  {
   "cell_type": "code",
   "execution_count": 164,
   "metadata": {},
   "outputs": [
    {
     "data": {
      "text/plain": [
       "(1, 14, 1)"
      ]
     },
     "execution_count": 164,
     "metadata": {},
     "output_type": "execute_result"
    }
   ],
   "source": [
    "train_X[-1:].shape"
   ]
  },
  {
   "cell_type": "code",
   "execution_count": 165,
   "metadata": {},
   "outputs": [
    {
     "data": {
      "text/plain": [
       "(14, 1)"
      ]
     },
     "execution_count": 165,
     "metadata": {},
     "output_type": "execute_result"
    }
   ],
   "source": [
    "train_X[-1].reshape(-1, 1).shape"
   ]
  },
  {
   "cell_type": "code",
   "execution_count": 166,
   "metadata": {},
   "outputs": [],
   "source": [
    "temp = train_X[-1].reshape(-1, 1)"
   ]
  },
  {
   "cell_type": "code",
   "execution_count": 167,
   "metadata": {},
   "outputs": [],
   "source": [
    "temp = sc.fit_transform(temp)"
   ]
  },
  {
   "cell_type": "code",
   "execution_count": 168,
   "metadata": {},
   "outputs": [],
   "source": [
    "temp_for = temp\n",
    "li = []"
   ]
  },
  {
   "cell_type": "code",
   "execution_count": 169,
   "metadata": {},
   "outputs": [
    {
     "data": {
      "text/plain": [
       "array([[-0.22584822],\n",
       "       [-0.50927224],\n",
       "       [-0.85530789],\n",
       "       [-0.98548824],\n",
       "       [-1.28868263],\n",
       "       [-1.30351356],\n",
       "       [-1.38095864],\n",
       "       [ 0.44975324],\n",
       "       [ 1.18302689],\n",
       "       [ 1.15501403],\n",
       "       [ 1.35769497],\n",
       "       [ 0.87323901],\n",
       "       [ 0.82539285],\n",
       "       [ 0.70495041]])"
      ]
     },
     "execution_count": 169,
     "metadata": {},
     "output_type": "execute_result"
    }
   ],
   "source": [
    "temp_for"
   ]
  },
  {
   "cell_type": "code",
   "execution_count": null,
   "metadata": {},
   "outputs": [],
   "source": []
  },
  {
   "cell_type": "code",
   "execution_count": 202,
   "metadata": {},
   "outputs": [],
   "source": [
    "\n",
    "# creating for loop for n number of prediction\n",
    "timestamp = n_past\n",
    "days = 90\n",
    "li = []\n",
    "for i in range(days):\n",
    "    x_input_for = temp_for.reshape(1, temp_for.shape[0],1)\n",
    "    pred_for = model.predict(x_input_for).flatten()\n",
    "    li.append(pred_for)\n",
    "    next_for = np.append(temp_for,pred_for)\n",
    "    temp_for = next_for[-timestamp:]\n",
    "\n",
    "\n"
   ]
  },
  {
   "cell_type": "code",
   "execution_count": 203,
   "metadata": {},
   "outputs": [
    {
     "data": {
      "text/plain": [
       "[array([6.9791527], dtype=float32),\n",
       " array([6.979152], dtype=float32),\n",
       " array([6.9791517], dtype=float32),\n",
       " array([6.9791517], dtype=float32),\n",
       " array([6.9791512], dtype=float32),\n",
       " array([6.979151], dtype=float32),\n",
       " array([6.979151], dtype=float32),\n",
       " array([6.979151], dtype=float32),\n",
       " array([6.9791503], dtype=float32),\n",
       " array([6.979151], dtype=float32),\n",
       " array([6.9791503], dtype=float32),\n",
       " array([6.97915], dtype=float32),\n",
       " array([6.97915], dtype=float32),\n",
       " array([6.979151], dtype=float32),\n",
       " array([6.97915], dtype=float32),\n",
       " array([6.97915], dtype=float32),\n",
       " array([6.979151], dtype=float32),\n",
       " array([6.979151], dtype=float32),\n",
       " array([6.9791517], dtype=float32),\n",
       " array([6.979152], dtype=float32),\n",
       " array([6.9791517], dtype=float32),\n",
       " array([6.9791527], dtype=float32),\n",
       " array([6.9791527], dtype=float32),\n",
       " array([6.979152], dtype=float32),\n",
       " array([6.9791517], dtype=float32),\n",
       " array([6.979152], dtype=float32),\n",
       " array([6.9791517], dtype=float32),\n",
       " array([6.979151], dtype=float32),\n",
       " array([6.9791512], dtype=float32),\n",
       " array([6.979151], dtype=float32),\n",
       " array([6.979151], dtype=float32),\n",
       " array([6.979151], dtype=float32),\n",
       " array([6.97915], dtype=float32),\n",
       " array([6.9791503], dtype=float32),\n",
       " array([6.97915], dtype=float32),\n",
       " array([6.9791503], dtype=float32),\n",
       " array([6.97915], dtype=float32),\n",
       " array([6.9791503], dtype=float32),\n",
       " array([6.979151], dtype=float32),\n",
       " array([6.979151], dtype=float32),\n",
       " array([6.979151], dtype=float32),\n",
       " array([6.9791517], dtype=float32),\n",
       " array([6.979152], dtype=float32),\n",
       " array([6.979152], dtype=float32),\n",
       " array([6.9791527], dtype=float32),\n",
       " array([6.9791527], dtype=float32),\n",
       " array([6.9791527], dtype=float32),\n",
       " array([6.979151], dtype=float32),\n",
       " array([6.979151], dtype=float32),\n",
       " array([6.9791512], dtype=float32),\n",
       " array([6.9791512], dtype=float32),\n",
       " array([6.979151], dtype=float32),\n",
       " array([6.9791503], dtype=float32),\n",
       " array([6.9791503], dtype=float32),\n",
       " array([6.97915], dtype=float32),\n",
       " array([6.9791493], dtype=float32),\n",
       " array([6.9791493], dtype=float32),\n",
       " array([6.9791493], dtype=float32),\n",
       " array([6.9791493], dtype=float32),\n",
       " array([6.97915], dtype=float32),\n",
       " array([6.979151], dtype=float32),\n",
       " array([6.9791517], dtype=float32),\n",
       " array([6.979152], dtype=float32),\n",
       " array([6.9791527], dtype=float32),\n",
       " array([6.979153], dtype=float32),\n",
       " array([6.9791536], dtype=float32),\n",
       " array([6.9791536], dtype=float32),\n",
       " array([6.9791527], dtype=float32),\n",
       " array([6.9791527], dtype=float32),\n",
       " array([6.9791512], dtype=float32),\n",
       " array([6.979152], dtype=float32),\n",
       " array([6.9791517], dtype=float32),\n",
       " array([6.9791512], dtype=float32),\n",
       " array([6.9791512], dtype=float32),\n",
       " array([6.9791517], dtype=float32),\n",
       " array([6.979151], dtype=float32),\n",
       " array([6.9791517], dtype=float32),\n",
       " array([6.9791517], dtype=float32),\n",
       " array([6.9791527], dtype=float32),\n",
       " array([6.9791527], dtype=float32),\n",
       " array([6.9791512], dtype=float32),\n",
       " array([6.9791517], dtype=float32),\n",
       " array([6.979152], dtype=float32),\n",
       " array([6.9791512], dtype=float32),\n",
       " array([6.9791517], dtype=float32),\n",
       " array([6.9791517], dtype=float32),\n",
       " array([6.9791517], dtype=float32),\n",
       " array([6.9791512], dtype=float32),\n",
       " array([6.979151], dtype=float32),\n",
       " array([6.9791512], dtype=float32)]"
      ]
     },
     "execution_count": 203,
     "metadata": {},
     "output_type": "execute_result"
    }
   ],
   "source": [
    "li"
   ]
  },
  {
   "cell_type": "code",
   "execution_count": 204,
   "metadata": {},
   "outputs": [],
   "source": [
    "arr = np.array(li)"
   ]
  },
  {
   "cell_type": "code",
   "execution_count": 205,
   "metadata": {},
   "outputs": [],
   "source": [
    "y_pred_future = sc.inverse_transform(arr)"
   ]
  },
  {
   "cell_type": "code",
   "execution_count": 218,
   "metadata": {},
   "outputs": [
    {
     "data": {
      "text/plain": [
       "array([209.68764, 209.68764, 209.68764, 209.68764, 209.68764, 209.68762,\n",
       "       209.68762, 209.68762, 209.68762, 209.68762, 209.68762, 209.68762,\n",
       "       209.68762, 209.68762, 209.68762, 209.68762, 209.68762, 209.68762,\n",
       "       209.68764, 209.68764, 209.68764, 209.68764, 209.68764, 209.68764,\n",
       "       209.68764, 209.68764, 209.68764, 209.68762, 209.68764, 209.68762,\n",
       "       209.68762, 209.68762, 209.68762, 209.68762, 209.68762, 209.68762,\n",
       "       209.68762, 209.68762, 209.68762, 209.68762, 209.68762, 209.68764,\n",
       "       209.68764, 209.68764, 209.68764, 209.68764, 209.68764, 209.68762,\n",
       "       209.68762, 209.68764, 209.68764, 209.68762, 209.68762, 209.68762,\n",
       "       209.68762, 209.68762, 209.68762, 209.68762, 209.68762, 209.68762,\n",
       "       209.68762, 209.68764, 209.68764, 209.68764, 209.68764, 209.68765,\n",
       "       209.68765, 209.68764, 209.68764, 209.68764, 209.68764, 209.68764,\n",
       "       209.68764, 209.68764, 209.68764, 209.68762, 209.68764, 209.68764,\n",
       "       209.68764, 209.68764, 209.68764, 209.68764, 209.68764, 209.68764,\n",
       "       209.68764, 209.68764, 209.68764, 209.68764, 209.68762, 209.68764],\n",
       "      dtype=float32)"
      ]
     },
     "execution_count": 218,
     "metadata": {},
     "output_type": "execute_result"
    }
   ],
   "source": [
    "y_pred_future"
   ]
  },
  {
   "cell_type": "code",
   "execution_count": 206,
   "metadata": {},
   "outputs": [
    {
     "data": {
      "text/plain": [
       "(90, 1)"
      ]
     },
     "execution_count": 206,
     "metadata": {},
     "output_type": "execute_result"
    }
   ],
   "source": [
    "y_pred_future.shape"
   ]
  },
  {
   "cell_type": "code",
   "execution_count": 207,
   "metadata": {},
   "outputs": [],
   "source": [
    "y_pred_future = y_pred_future.flatten()"
   ]
  },
  {
   "cell_type": "code",
   "execution_count": 208,
   "metadata": {},
   "outputs": [],
   "source": [
    "\n",
    "forecast_period_date = pd.date_range(list(training_dates)[-1], periods=days, freq=\"1d\").tolist()"
   ]
  },
  {
   "cell_type": "code",
   "execution_count": 209,
   "metadata": {},
   "outputs": [
    {
     "data": {
      "text/plain": [
       "90"
      ]
     },
     "execution_count": 209,
     "metadata": {},
     "output_type": "execute_result"
    }
   ],
   "source": [
    "len(forecast_period_date)"
   ]
  },
  {
   "cell_type": "code",
   "execution_count": 210,
   "metadata": {},
   "outputs": [],
   "source": [
    "# forecast = model1.predict(train_X[-n_future:])\n",
    "# forecast"
   ]
  },
  {
   "cell_type": "code",
   "execution_count": 211,
   "metadata": {},
   "outputs": [],
   "source": [
    "# forecast_copies = np.repeat(forecast, df_for_training.shape[1], axis = 1)\n",
    "# y_pred_future = forecast_copies"
   ]
  },
  {
   "cell_type": "code",
   "execution_count": 212,
   "metadata": {},
   "outputs": [],
   "source": [
    "forecast_dates = []\n",
    "for time_i in forecast_period_date:\n",
    "   forecast_dates.append(time_i.date())"
   ]
  },
  {
   "cell_type": "code",
   "execution_count": 213,
   "metadata": {},
   "outputs": [],
   "source": [
    "# y_pred_future = y_pred_future.flatten()"
   ]
  },
  {
   "cell_type": "code",
   "execution_count": 221,
   "metadata": {},
   "outputs": [],
   "source": [
    "df_future = pd.DataFrame({\"Date\":np.array(forecast_dates), \"Close\":y_pred_future})"
   ]
  },
  {
   "cell_type": "code",
   "execution_count": 222,
   "metadata": {},
   "outputs": [],
   "source": [
    "df_future[\"Date\"] = pd.to_datetime(df_future[\"Date\"])"
   ]
  },
  {
   "cell_type": "code",
   "execution_count": 223,
   "metadata": {},
   "outputs": [
    {
     "data": {
      "text/html": [
       "<div>\n",
       "<style scoped>\n",
       "    .dataframe tbody tr th:only-of-type {\n",
       "        vertical-align: middle;\n",
       "    }\n",
       "\n",
       "    .dataframe tbody tr th {\n",
       "        vertical-align: top;\n",
       "    }\n",
       "\n",
       "    .dataframe thead th {\n",
       "        text-align: right;\n",
       "    }\n",
       "</style>\n",
       "<table border=\"1\" class=\"dataframe\">\n",
       "  <thead>\n",
       "    <tr style=\"text-align: right;\">\n",
       "      <th></th>\n",
       "      <th>Date</th>\n",
       "      <th>Close</th>\n",
       "    </tr>\n",
       "  </thead>\n",
       "  <tbody>\n",
       "    <tr>\n",
       "      <th>0</th>\n",
       "      <td>2022-02-09</td>\n",
       "      <td>209.687637</td>\n",
       "    </tr>\n",
       "    <tr>\n",
       "      <th>1</th>\n",
       "      <td>2022-02-10</td>\n",
       "      <td>209.687637</td>\n",
       "    </tr>\n",
       "    <tr>\n",
       "      <th>2</th>\n",
       "      <td>2022-02-11</td>\n",
       "      <td>209.687637</td>\n",
       "    </tr>\n",
       "    <tr>\n",
       "      <th>3</th>\n",
       "      <td>2022-02-12</td>\n",
       "      <td>209.687637</td>\n",
       "    </tr>\n",
       "    <tr>\n",
       "      <th>4</th>\n",
       "      <td>2022-02-13</td>\n",
       "      <td>209.687637</td>\n",
       "    </tr>\n",
       "  </tbody>\n",
       "</table>\n",
       "</div>"
      ],
      "text/plain": [
       "        Date       Close\n",
       "0 2022-02-09  209.687637\n",
       "1 2022-02-10  209.687637\n",
       "2 2022-02-11  209.687637\n",
       "3 2022-02-12  209.687637\n",
       "4 2022-02-13  209.687637"
      ]
     },
     "execution_count": 223,
     "metadata": {},
     "output_type": "execute_result"
    }
   ],
   "source": [
    "df_future.head()"
   ]
  },
  {
   "cell_type": "code",
   "execution_count": 219,
   "metadata": {},
   "outputs": [],
   "source": [
    "original = stock_hist[\"Close\"]\n",
    "original = original.to_frame().reset_index()"
   ]
  },
  {
   "cell_type": "code",
   "execution_count": 224,
   "metadata": {},
   "outputs": [
    {
     "data": {
      "image/png": "[encoded data removed]",
      "text/plain": [
       "<Figure size 432x288 with 1 Axes>"
      ]
     },
     "metadata": {
      "needs_background": "light"
     },
     "output_type": "display_data"
    }
   ],
   "source": [
    "plt.title(f\"Predicted Stock Price for {days} Days\")\n",
    "plt.plot(forecast_dates,  y_pred_future)\n",
    "plt.xticks(rotation=45)\n",
    "plt.xlabel(\"Date\")\n",
    "plt.ylabel(\"Price\")\n",
    "plt.show()"
   ]
  },
  {
   "cell_type": "code",
   "execution_count": null,
   "metadata": {},
   "outputs": [],
   "source": [
    "from datetime import date"
   ]
  },
  {
   "cell_type": "code",
   "execution_count": null,
   "metadata": {},
   "outputs": [],
   "source": [
    "two_year = "
   ]
  },
  {
   "cell_type": "code",
   "execution_count": 225,
   "metadata": {},
   "outputs": [
    {
     "data": {
      "image/png": "[encoded data removed]",
      "text/plain": [
       "<Figure size 432x288 with 1 Axes>"
      ]
     },
     "metadata": {
      "needs_background": "light"
     },
     "output_type": "display_data"
    }
   ],
   "source": [
    "plt.title(\"Actual Price Vs Predicted Price\")\n",
    "plt.plot(original[\"Date\"], original[\"Close\"], label=\"Actual Price\")\n",
    "plt.plot(df_future[\"Date\"], df_future[\"Close\"], label=\"Predicted\")\n",
    "plt.xlabel(\"Date\")\n",
    "plt.ylabel(\"Price\")\n",
    "plt.legend()\n",
    "plt.show()"
   ]
  },
  {
   "cell_type": "markdown",
   "metadata": {},
   "source": []
  },
  {
   "cell_type": "code",
   "execution_count": 187,
   "metadata": {},
   "outputs": [
    {
     "data": {
      "text/html": [
       "<div>\n",
       "<style scoped>\n",
       "    .dataframe tbody tr th:only-of-type {\n",
       "        vertical-align: middle;\n",
       "    }\n",
       "\n",
       "    .dataframe tbody tr th {\n",
       "        vertical-align: top;\n",
       "    }\n",
       "\n",
       "    .dataframe thead th {\n",
       "        text-align: right;\n",
       "    }\n",
       "</style>\n",
       "<table border=\"1\" class=\"dataframe\">\n",
       "  <thead>\n",
       "    <tr style=\"text-align: right;\">\n",
       "      <th></th>\n",
       "      <th>Date</th>\n",
       "      <th>Close</th>\n",
       "    </tr>\n",
       "  </thead>\n",
       "  <tbody>\n",
       "    <tr>\n",
       "      <th>0</th>\n",
       "      <td>2022-02-09</td>\n",
       "      <td>169.803177</td>\n",
       "    </tr>\n",
       "    <tr>\n",
       "      <th>1</th>\n",
       "      <td>2022-02-10</td>\n",
       "      <td>169.103271</td>\n",
       "    </tr>\n",
       "    <tr>\n",
       "      <th>2</th>\n",
       "      <td>2022-02-11</td>\n",
       "      <td>169.976807</td>\n",
       "    </tr>\n",
       "    <tr>\n",
       "      <th>3</th>\n",
       "      <td>2022-02-12</td>\n",
       "      <td>171.889359</td>\n",
       "    </tr>\n",
       "    <tr>\n",
       "      <th>4</th>\n",
       "      <td>2022-02-13</td>\n",
       "      <td>173.977005</td>\n",
       "    </tr>\n",
       "    <tr>\n",
       "      <th>...</th>\n",
       "      <td>...</td>\n",
       "      <td>...</td>\n",
       "    </tr>\n",
       "    <tr>\n",
       "      <th>995</th>\n",
       "      <td>2024-10-31</td>\n",
       "      <td>209.687637</td>\n",
       "    </tr>\n",
       "    <tr>\n",
       "      <th>996</th>\n",
       "      <td>2024-11-01</td>\n",
       "      <td>209.687637</td>\n",
       "    </tr>\n",
       "    <tr>\n",
       "      <th>997</th>\n",
       "      <td>2024-11-02</td>\n",
       "      <td>209.687637</td>\n",
       "    </tr>\n",
       "    <tr>\n",
       "      <th>998</th>\n",
       "      <td>2024-11-03</td>\n",
       "      <td>209.687637</td>\n",
       "    </tr>\n",
       "    <tr>\n",
       "      <th>999</th>\n",
       "      <td>2024-11-04</td>\n",
       "      <td>209.687637</td>\n",
       "    </tr>\n",
       "  </tbody>\n",
       "</table>\n",
       "<p>1000 rows × 2 columns</p>\n",
       "</div>"
      ],
      "text/plain": [
       "          Date       Close\n",
       "0   2022-02-09  169.803177\n",
       "1   2022-02-10  169.103271\n",
       "2   2022-02-11  169.976807\n",
       "3   2022-02-12  171.889359\n",
       "4   2022-02-13  173.977005\n",
       "..         ...         ...\n",
       "995 2024-10-31  209.687637\n",
       "996 2024-11-01  209.687637\n",
       "997 2024-11-02  209.687637\n",
       "998 2024-11-03  209.687637\n",
       "999 2024-11-04  209.687637\n",
       "\n",
       "[1000 rows x 2 columns]"
      ]
     },
     "execution_count": 187,
     "metadata": {},
     "output_type": "execute_result"
    }
   ],
   "source": [
    "df_future"
   ]
  },
  {
   "cell_type": "markdown",
   "metadata": {},
   "source": []
  },
  {
   "cell_type": "code",
   "execution_count": 188,
   "metadata": {},
   "outputs": [],
   "source": [
    "#dumping model\n",
    "# import pickle\n",
    "# filename = \"trained_model.sav\"\n",
    "# pickle.dump(model1, open(filename, 'wb'))\n",
    "#loaded_model = pickle.load(open(\"stock_prediction_lstm.h5\", 'rb'))"
   ]
  },
  {
   "cell_type": "code",
   "execution_count": null,
   "metadata": {},
   "outputs": [],
   "source": []
  }
 ],
 "metadata": {
  "interpreter": {
   "hash": "41e02fa9e6f67802ee52765a46a5361f864405f10fddd85900b0b50f8c028bf5"
  },
  "kernelspec": {
   "display_name": "Python 3",
   "language": "python",
   "name": "python3"
  },
  "language_info": {
   "codemirror_mode": {
    "name": "ipython",
    "version": 3
   },
   "file_extension": ".py",
   "mimetype": "text/x-python",
   "name": "python",
   "nbconvert_exporter": "python",
   "pygments_lexer": "ipython3",
   "version": "3.8.8"
  }
 },
 "nbformat": 4,
 "nbformat_minor": 2
}
