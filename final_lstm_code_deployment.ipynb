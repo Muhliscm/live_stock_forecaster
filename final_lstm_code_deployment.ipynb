{
 "cells": [
  {
   "cell_type": "code",
   "execution_count": 46,
   "metadata": {},
   "outputs": [],
   "source": [
    "import pandas as np\n",
    "import yfinance as yf\n",
    "import numpy as np\n",
    "import matplotlib.pyplot as plt"
   ]
  },
  {
   "cell_type": "code",
   "execution_count": null,
   "metadata": {},
   "outputs": [],
   "source": []
  },
  {
   "cell_type": "code",
   "execution_count": 5,
   "metadata": {},
   "outputs": [],
   "source": [
    "tick = yf.Ticker(\"MSFT\")"
   ]
  },
  {
   "cell_type": "code",
   "execution_count": 6,
   "metadata": {},
   "outputs": [],
   "source": [
    "hist = tick.history(\"max\")"
   ]
  },
  {
   "cell_type": "code",
   "execution_count": 11,
   "metadata": {},
   "outputs": [],
   "source": [
    "df = hist.Close"
   ]
  },
  {
   "cell_type": "markdown",
   "metadata": {},
   "source": [
    "### Preprocessing"
   ]
  },
  {
   "cell_type": "code",
   "execution_count": 12,
   "metadata": {},
   "outputs": [],
   "source": [
    "df = df.to_frame()\n"
   ]
  },
  {
   "cell_type": "code",
   "execution_count": 13,
   "metadata": {},
   "outputs": [],
   "source": [
    "df = df.reset_index()"
   ]
  },
  {
   "cell_type": "code",
   "execution_count": 14,
   "metadata": {},
   "outputs": [
    {
     "data": {
      "text/html": [
       "<div>\n",
       "<style scoped>\n",
       "    .dataframe tbody tr th:only-of-type {\n",
       "        vertical-align: middle;\n",
       "    }\n",
       "\n",
       "    .dataframe tbody tr th {\n",
       "        vertical-align: top;\n",
       "    }\n",
       "\n",
       "    .dataframe thead th {\n",
       "        text-align: right;\n",
       "    }\n",
       "</style>\n",
       "<table border=\"1\" class=\"dataframe\">\n",
       "  <thead>\n",
       "    <tr style=\"text-align: right;\">\n",
       "      <th></th>\n",
       "      <th>Date</th>\n",
       "      <th>Close</th>\n",
       "    </tr>\n",
       "  </thead>\n",
       "  <tbody>\n",
       "    <tr>\n",
       "      <th>0</th>\n",
       "      <td>1986-03-13</td>\n",
       "      <td>0.061378</td>\n",
       "    </tr>\n",
       "    <tr>\n",
       "      <th>1</th>\n",
       "      <td>1986-03-14</td>\n",
       "      <td>0.063570</td>\n",
       "    </tr>\n",
       "    <tr>\n",
       "      <th>2</th>\n",
       "      <td>1986-03-17</td>\n",
       "      <td>0.064667</td>\n",
       "    </tr>\n",
       "    <tr>\n",
       "      <th>3</th>\n",
       "      <td>1986-03-18</td>\n",
       "      <td>0.063022</td>\n",
       "    </tr>\n",
       "    <tr>\n",
       "      <th>4</th>\n",
       "      <td>1986-03-19</td>\n",
       "      <td>0.061926</td>\n",
       "    </tr>\n",
       "  </tbody>\n",
       "</table>\n",
       "</div>"
      ],
      "text/plain": [
       "        Date     Close\n",
       "0 1986-03-13  0.061378\n",
       "1 1986-03-14  0.063570\n",
       "2 1986-03-17  0.064667\n",
       "3 1986-03-18  0.063022\n",
       "4 1986-03-19  0.061926"
      ]
     },
     "execution_count": 14,
     "metadata": {},
     "output_type": "execute_result"
    }
   ],
   "source": [
    "#df.head()"
   ]
  },
  {
   "cell_type": "code",
   "execution_count": 15,
   "metadata": {},
   "outputs": [],
   "source": [
    "import datetime as datetime\n",
    "import pandas as pd\n",
    "training_dates = pd.to_datetime(df[\"Date\"])"
   ]
  },
  {
   "cell_type": "code",
   "execution_count": 16,
   "metadata": {},
   "outputs": [],
   "source": [
    "df_for_training = df[[\"Close\"]]"
   ]
  },
  {
   "cell_type": "code",
   "execution_count": 18,
   "metadata": {},
   "outputs": [],
   "source": [
    "#df_for_training.head()"
   ]
  },
  {
   "cell_type": "code",
   "execution_count": 19,
   "metadata": {},
   "outputs": [
    {
     "data": {
      "text/plain": [
       "array([[-0.6071037 ],\n",
       "       [-0.60706605],\n",
       "       [-0.60704722],\n",
       "       ...,\n",
       "       [ 4.56626296],\n",
       "       [ 4.6468208 ],\n",
       "       [ 4.56111022]])"
      ]
     },
     "execution_count": 19,
     "metadata": {},
     "output_type": "execute_result"
    }
   ],
   "source": [
    "from sklearn.preprocessing import StandardScaler\n",
    "sc = StandardScaler()\n",
    "sc.fit_transform(df_for_training)"
   ]
  },
  {
   "cell_type": "code",
   "execution_count": 23,
   "metadata": {},
   "outputs": [],
   "source": [
    "# Creating dataset\n",
    "train_X = []\n",
    "train_Y = []\n",
    "n_past = 14\n",
    "n_future = 1"
   ]
  },
  {
   "cell_type": "code",
   "execution_count": 21,
   "metadata": {},
   "outputs": [],
   "source": [
    "df_for_training = df_for_training.values"
   ]
  },
  {
   "cell_type": "code",
   "execution_count": 22,
   "metadata": {},
   "outputs": [
    {
     "data": {
      "text/plain": [
       "array([[6.13783449e-02],\n",
       "       [6.35702983e-02],\n",
       "       [6.46669120e-02],\n",
       "       ...,\n",
       "       [3.01250000e+02],\n",
       "       [3.05940002e+02],\n",
       "       [3.00950012e+02]])"
      ]
     },
     "execution_count": 22,
     "metadata": {},
     "output_type": "execute_result"
    }
   ],
   "source": [
    "#df_for_training"
   ]
  },
  {
   "cell_type": "code",
   "execution_count": 24,
   "metadata": {},
   "outputs": [],
   "source": [
    "for i in range(len(df_for_training)-n_past-1):\n",
    "\t\ta = df_for_training[i:(i+n_past), 0]   ###i=0, 0,1,2,3-----99   100 \n",
    "\t\ttrain_X.append(a)\n",
    "\t\ttrain_Y.append(df_for_training[i + n_past, 0])"
   ]
  },
  {
   "cell_type": "code",
   "execution_count": 27,
   "metadata": {},
   "outputs": [],
   "source": [
    "# converting to array\n",
    "train_X = np.array(train_X)\n",
    "train_Y = np.array(train_Y)"
   ]
  },
  {
   "cell_type": "code",
   "execution_count": 30,
   "metadata": {},
   "outputs": [
    {
     "name": "stdout",
     "output_type": "stream",
     "text": [
      "(9036, 14) (9036,)\n"
     ]
    }
   ],
   "source": [
    "print(train_X.shape, train_Y.shape)\n"
   ]
  },
  {
   "cell_type": "code",
   "execution_count": 31,
   "metadata": {},
   "outputs": [
    {
     "data": {
      "text/plain": [
       "(9036, 14, 1)"
      ]
     },
     "execution_count": 31,
     "metadata": {},
     "output_type": "execute_result"
    }
   ],
   "source": [
    "train_X = train_X.reshape(train_X.shape[0], train_X.shape[1], n_future)\n",
    "train_X.shape"
   ]
  },
  {
   "cell_type": "code",
   "execution_count": 32,
   "metadata": {},
   "outputs": [
    {
     "data": {
      "text/plain": [
       "(9036, 1)"
      ]
     },
     "execution_count": 32,
     "metadata": {},
     "output_type": "execute_result"
    }
   ],
   "source": [
    "train_Y = train_Y.reshape(train_Y.shape[0], n_future)\n",
    "train_Y.shape"
   ]
  },
  {
   "cell_type": "code",
   "execution_count": 36,
   "metadata": {},
   "outputs": [],
   "source": [
    "# loading model from tensorflow import keras\n",
    "from tensorflow import keras\n",
    "model1 = keras.models.load_model(\"stock_prediction_lstm.h5\")"
   ]
  },
  {
   "cell_type": "code",
   "execution_count": 33,
   "metadata": {},
   "outputs": [],
   "source": [
    "n_future = 90\n",
    "forecast_period_date = pd.date_range(list(training_dates)[-1], periods=n_future, freq=\"1d\").tolist()"
   ]
  },
  {
   "cell_type": "code",
   "execution_count": 34,
   "metadata": {},
   "outputs": [
    {
     "data": {
      "text/plain": [
       "[Timestamp('2022-02-07 00:00:00', freq='D'),\n",
       " Timestamp('2022-02-08 00:00:00', freq='D'),\n",
       " Timestamp('2022-02-09 00:00:00', freq='D'),\n",
       " Timestamp('2022-02-10 00:00:00', freq='D'),\n",
       " Timestamp('2022-02-11 00:00:00', freq='D'),\n",
       " Timestamp('2022-02-12 00:00:00', freq='D'),\n",
       " Timestamp('2022-02-13 00:00:00', freq='D'),\n",
       " Timestamp('2022-02-14 00:00:00', freq='D'),\n",
       " Timestamp('2022-02-15 00:00:00', freq='D'),\n",
       " Timestamp('2022-02-16 00:00:00', freq='D'),\n",
       " Timestamp('2022-02-17 00:00:00', freq='D'),\n",
       " Timestamp('2022-02-18 00:00:00', freq='D'),\n",
       " Timestamp('2022-02-19 00:00:00', freq='D'),\n",
       " Timestamp('2022-02-20 00:00:00', freq='D'),\n",
       " Timestamp('2022-02-21 00:00:00', freq='D'),\n",
       " Timestamp('2022-02-22 00:00:00', freq='D'),\n",
       " Timestamp('2022-02-23 00:00:00', freq='D'),\n",
       " Timestamp('2022-02-24 00:00:00', freq='D'),\n",
       " Timestamp('2022-02-25 00:00:00', freq='D'),\n",
       " Timestamp('2022-02-26 00:00:00', freq='D'),\n",
       " Timestamp('2022-02-27 00:00:00', freq='D'),\n",
       " Timestamp('2022-02-28 00:00:00', freq='D'),\n",
       " Timestamp('2022-03-01 00:00:00', freq='D'),\n",
       " Timestamp('2022-03-02 00:00:00', freq='D'),\n",
       " Timestamp('2022-03-03 00:00:00', freq='D'),\n",
       " Timestamp('2022-03-04 00:00:00', freq='D'),\n",
       " Timestamp('2022-03-05 00:00:00', freq='D'),\n",
       " Timestamp('2022-03-06 00:00:00', freq='D'),\n",
       " Timestamp('2022-03-07 00:00:00', freq='D'),\n",
       " Timestamp('2022-03-08 00:00:00', freq='D'),\n",
       " Timestamp('2022-03-09 00:00:00', freq='D'),\n",
       " Timestamp('2022-03-10 00:00:00', freq='D'),\n",
       " Timestamp('2022-03-11 00:00:00', freq='D'),\n",
       " Timestamp('2022-03-12 00:00:00', freq='D'),\n",
       " Timestamp('2022-03-13 00:00:00', freq='D'),\n",
       " Timestamp('2022-03-14 00:00:00', freq='D'),\n",
       " Timestamp('2022-03-15 00:00:00', freq='D'),\n",
       " Timestamp('2022-03-16 00:00:00', freq='D'),\n",
       " Timestamp('2022-03-17 00:00:00', freq='D'),\n",
       " Timestamp('2022-03-18 00:00:00', freq='D'),\n",
       " Timestamp('2022-03-19 00:00:00', freq='D'),\n",
       " Timestamp('2022-03-20 00:00:00', freq='D'),\n",
       " Timestamp('2022-03-21 00:00:00', freq='D'),\n",
       " Timestamp('2022-03-22 00:00:00', freq='D'),\n",
       " Timestamp('2022-03-23 00:00:00', freq='D'),\n",
       " Timestamp('2022-03-24 00:00:00', freq='D'),\n",
       " Timestamp('2022-03-25 00:00:00', freq='D'),\n",
       " Timestamp('2022-03-26 00:00:00', freq='D'),\n",
       " Timestamp('2022-03-27 00:00:00', freq='D'),\n",
       " Timestamp('2022-03-28 00:00:00', freq='D'),\n",
       " Timestamp('2022-03-29 00:00:00', freq='D'),\n",
       " Timestamp('2022-03-30 00:00:00', freq='D'),\n",
       " Timestamp('2022-03-31 00:00:00', freq='D'),\n",
       " Timestamp('2022-04-01 00:00:00', freq='D'),\n",
       " Timestamp('2022-04-02 00:00:00', freq='D'),\n",
       " Timestamp('2022-04-03 00:00:00', freq='D'),\n",
       " Timestamp('2022-04-04 00:00:00', freq='D'),\n",
       " Timestamp('2022-04-05 00:00:00', freq='D'),\n",
       " Timestamp('2022-04-06 00:00:00', freq='D'),\n",
       " Timestamp('2022-04-07 00:00:00', freq='D'),\n",
       " Timestamp('2022-04-08 00:00:00', freq='D'),\n",
       " Timestamp('2022-04-09 00:00:00', freq='D'),\n",
       " Timestamp('2022-04-10 00:00:00', freq='D'),\n",
       " Timestamp('2022-04-11 00:00:00', freq='D'),\n",
       " Timestamp('2022-04-12 00:00:00', freq='D'),\n",
       " Timestamp('2022-04-13 00:00:00', freq='D'),\n",
       " Timestamp('2022-04-14 00:00:00', freq='D'),\n",
       " Timestamp('2022-04-15 00:00:00', freq='D'),\n",
       " Timestamp('2022-04-16 00:00:00', freq='D'),\n",
       " Timestamp('2022-04-17 00:00:00', freq='D'),\n",
       " Timestamp('2022-04-18 00:00:00', freq='D'),\n",
       " Timestamp('2022-04-19 00:00:00', freq='D'),\n",
       " Timestamp('2022-04-20 00:00:00', freq='D'),\n",
       " Timestamp('2022-04-21 00:00:00', freq='D'),\n",
       " Timestamp('2022-04-22 00:00:00', freq='D'),\n",
       " Timestamp('2022-04-23 00:00:00', freq='D'),\n",
       " Timestamp('2022-04-24 00:00:00', freq='D'),\n",
       " Timestamp('2022-04-25 00:00:00', freq='D'),\n",
       " Timestamp('2022-04-26 00:00:00', freq='D'),\n",
       " Timestamp('2022-04-27 00:00:00', freq='D'),\n",
       " Timestamp('2022-04-28 00:00:00', freq='D'),\n",
       " Timestamp('2022-04-29 00:00:00', freq='D'),\n",
       " Timestamp('2022-04-30 00:00:00', freq='D'),\n",
       " Timestamp('2022-05-01 00:00:00', freq='D'),\n",
       " Timestamp('2022-05-02 00:00:00', freq='D'),\n",
       " Timestamp('2022-05-03 00:00:00', freq='D'),\n",
       " Timestamp('2022-05-04 00:00:00', freq='D'),\n",
       " Timestamp('2022-05-05 00:00:00', freq='D'),\n",
       " Timestamp('2022-05-06 00:00:00', freq='D'),\n",
       " Timestamp('2022-05-07 00:00:00', freq='D')]"
      ]
     },
     "execution_count": 34,
     "metadata": {},
     "output_type": "execute_result"
    }
   ],
   "source": [
    "#forecast_period_date"
   ]
  },
  {
   "cell_type": "code",
   "execution_count": 38,
   "metadata": {},
   "outputs": [
    {
     "data": {
      "text/plain": [
       "array([[285.34784],\n",
       "       [282.7851 ],\n",
       "       [279.0868 ],\n",
       "       [274.8396 ],\n",
       "       [272.928  ],\n",
       "       [276.407  ],\n",
       "       [278.69943],\n",
       "       [280.9437 ],\n",
       "       [287.90414],\n",
       "       [284.9684 ],\n",
       "       [285.5265 ],\n",
       "       [287.50696],\n",
       "       [290.87692],\n",
       "       [294.13113],\n",
       "       [296.32837],\n",
       "       [300.28366],\n",
       "       [302.66205],\n",
       "       [303.90976],\n",
       "       [305.5488 ],\n",
       "       [304.64175],\n",
       "       [303.08112],\n",
       "       [303.74548],\n",
       "       [312.1557 ],\n",
       "       [315.09503],\n",
       "       [319.17035],\n",
       "       [321.5318 ],\n",
       "       [324.883  ],\n",
       "       [325.8398 ],\n",
       "       [327.22443],\n",
       "       [329.76486],\n",
       "       [331.97604],\n",
       "       [331.5924 ],\n",
       "       [328.67413],\n",
       "       [323.2504 ],\n",
       "       [322.77026],\n",
       "       [323.59308],\n",
       "       [324.55215],\n",
       "       [326.83536],\n",
       "       [333.64325],\n",
       "       [333.25244],\n",
       "       [331.26257],\n",
       "       [328.13763],\n",
       "       [325.5848 ],\n",
       "       [323.88013],\n",
       "       [322.81314],\n",
       "       [322.54678],\n",
       "       [321.8525 ],\n",
       "       [319.30447],\n",
       "       [318.85355],\n",
       "       [315.52344],\n",
       "       [320.4202 ],\n",
       "       [320.0818 ],\n",
       "       [323.2272 ],\n",
       "       [328.94513],\n",
       "       [334.5971 ],\n",
       "       [325.97293],\n",
       "       [320.87476],\n",
       "       [318.28357],\n",
       "       [317.3368 ],\n",
       "       [314.99774],\n",
       "       [315.98297],\n",
       "       [318.2879 ],\n",
       "       [322.2496 ],\n",
       "       [328.75998],\n",
       "       [332.7489 ],\n",
       "       [339.3682 ],\n",
       "       [336.1438 ],\n",
       "       [332.07306],\n",
       "       [323.85345],\n",
       "       [319.3985 ],\n",
       "       [315.66586],\n",
       "       [311.7134 ],\n",
       "       [305.45526],\n",
       "       [303.6557 ],\n",
       "       [302.7677 ],\n",
       "       [301.57437],\n",
       "       [302.6665 ],\n",
       "       [297.80914],\n",
       "       [295.15237],\n",
       "       [291.52014],\n",
       "       [288.89847],\n",
       "       [290.76727],\n",
       "       [286.4611 ],\n",
       "       [287.33203],\n",
       "       [285.95978],\n",
       "       [288.84344],\n",
       "       [293.38293],\n",
       "       [295.43726],\n",
       "       [305.84125],\n",
       "       [308.3117 ]], dtype=float32)"
      ]
     },
     "execution_count": 38,
     "metadata": {},
     "output_type": "execute_result"
    }
   ],
   "source": [
    "forecast = model1.predict(train_X[-n_future:])\n",
    "forecast"
   ]
  },
  {
   "cell_type": "code",
   "execution_count": 39,
   "metadata": {},
   "outputs": [],
   "source": [
    "forecast_copies = np.repeat(forecast, df_for_training.shape[1], axis = 1)\n",
    "y_pred_future = forecast_copies"
   ]
  },
  {
   "cell_type": "code",
   "execution_count": 40,
   "metadata": {},
   "outputs": [],
   "source": [
    "forecast_dates = []\n",
    "for time_i in forecast_period_date:\n",
    "   forecast_dates.append(time_i.date())"
   ]
  },
  {
   "cell_type": "code",
   "execution_count": 41,
   "metadata": {},
   "outputs": [],
   "source": [
    "y_pred_future = y_pred_future.flatten()"
   ]
  },
  {
   "cell_type": "code",
   "execution_count": 42,
   "metadata": {},
   "outputs": [],
   "source": [
    "df_future = pd.DataFrame({\"Date\":np.array(forecast_dates), \"Close\":y_pred_future})"
   ]
  },
  {
   "cell_type": "code",
   "execution_count": 43,
   "metadata": {},
   "outputs": [],
   "source": [
    "df_future[\"Date\"] = pd.to_datetime(df_future[\"Date\"])"
   ]
  },
  {
   "cell_type": "code",
   "execution_count": 44,
   "metadata": {},
   "outputs": [],
   "source": [
    "original = hist[\"Close\"]\n",
    "original = original.to_frame().reset_index()"
   ]
  },
  {
   "cell_type": "code",
   "execution_count": 63,
   "metadata": {},
   "outputs": [
    {
     "data": {
      "image/png": "[encoded data removed]",
      "text/plain": [
       "<Figure size 432x288 with 1 Axes>"
      ]
     },
     "metadata": {
      "needs_background": "light"
     },
     "output_type": "display_data"
    }
   ],
   "source": [
    "plt.title(f\"Predicted Stock Price for {n_future} Days\")\n",
    "plt.plot(forecast_dates,  y_pred_future)\n",
    "plt.xticks(rotation=45)\n",
    "plt.xlabel(\"Date\")\n",
    "plt.ylabel(\"Price\")\n",
    "plt.show()"
   ]
  },
  {
   "cell_type": "code",
   "execution_count": 62,
   "metadata": {},
   "outputs": [
    {
     "data": {
      "image/png": "[encoded data removed]",
      "text/plain": [
       "<Figure size 432x288 with 1 Axes>"
      ]
     },
     "metadata": {
      "needs_background": "light"
     },
     "output_type": "display_data"
    }
   ],
   "source": [
    "plt.title(\"Actual Price Vs Predicted Price\")\n",
    "plt.plot(original[\"Date\"], original[\"Close\"], label=\"Actual Price\")\n",
    "plt.plot(df_future[\"Date\"], df_future[\"Close\"], label=\"Predicted\")\n",
    "plt.xlabel(\"Date\")\n",
    "plt.ylabel(\"Price\")\n",
    "plt.legend()\n",
    "plt.show()"
   ]
  },
  {
   "cell_type": "markdown",
   "metadata": {},
   "source": []
  },
  {
   "cell_type": "code",
   "execution_count": 50,
   "metadata": {},
   "outputs": [
    {
     "data": {
      "text/html": [
       "<div>\n",
       "<style scoped>\n",
       "    .dataframe tbody tr th:only-of-type {\n",
       "        vertical-align: middle;\n",
       "    }\n",
       "\n",
       "    .dataframe tbody tr th {\n",
       "        vertical-align: top;\n",
       "    }\n",
       "\n",
       "    .dataframe thead th {\n",
       "        text-align: right;\n",
       "    }\n",
       "</style>\n",
       "<table border=\"1\" class=\"dataframe\">\n",
       "  <thead>\n",
       "    <tr style=\"text-align: right;\">\n",
       "      <th></th>\n",
       "      <th>Date</th>\n",
       "      <th>Close</th>\n",
       "    </tr>\n",
       "  </thead>\n",
       "  <tbody>\n",
       "    <tr>\n",
       "      <th>0</th>\n",
       "      <td>2022-02-07</td>\n",
       "      <td>285.347839</td>\n",
       "    </tr>\n",
       "    <tr>\n",
       "      <th>1</th>\n",
       "      <td>2022-02-08</td>\n",
       "      <td>282.785095</td>\n",
       "    </tr>\n",
       "    <tr>\n",
       "      <th>2</th>\n",
       "      <td>2022-02-09</td>\n",
       "      <td>279.086792</td>\n",
       "    </tr>\n",
       "    <tr>\n",
       "      <th>3</th>\n",
       "      <td>2022-02-10</td>\n",
       "      <td>274.839600</td>\n",
       "    </tr>\n",
       "    <tr>\n",
       "      <th>4</th>\n",
       "      <td>2022-02-11</td>\n",
       "      <td>272.928009</td>\n",
       "    </tr>\n",
       "    <tr>\n",
       "      <th>...</th>\n",
       "      <td>...</td>\n",
       "      <td>...</td>\n",
       "    </tr>\n",
       "    <tr>\n",
       "      <th>85</th>\n",
       "      <td>2022-05-03</td>\n",
       "      <td>288.843445</td>\n",
       "    </tr>\n",
       "    <tr>\n",
       "      <th>86</th>\n",
       "      <td>2022-05-04</td>\n",
       "      <td>293.382935</td>\n",
       "    </tr>\n",
       "    <tr>\n",
       "      <th>87</th>\n",
       "      <td>2022-05-05</td>\n",
       "      <td>295.437256</td>\n",
       "    </tr>\n",
       "    <tr>\n",
       "      <th>88</th>\n",
       "      <td>2022-05-06</td>\n",
       "      <td>305.841248</td>\n",
       "    </tr>\n",
       "    <tr>\n",
       "      <th>89</th>\n",
       "      <td>2022-05-07</td>\n",
       "      <td>308.311707</td>\n",
       "    </tr>\n",
       "  </tbody>\n",
       "</table>\n",
       "<p>90 rows × 2 columns</p>\n",
       "</div>"
      ],
      "text/plain": [
       "         Date       Close\n",
       "0  2022-02-07  285.347839\n",
       "1  2022-02-08  282.785095\n",
       "2  2022-02-09  279.086792\n",
       "3  2022-02-10  274.839600\n",
       "4  2022-02-11  272.928009\n",
       "..        ...         ...\n",
       "85 2022-05-03  288.843445\n",
       "86 2022-05-04  293.382935\n",
       "87 2022-05-05  295.437256\n",
       "88 2022-05-06  305.841248\n",
       "89 2022-05-07  308.311707\n",
       "\n",
       "[90 rows x 2 columns]"
      ]
     },
     "execution_count": 50,
     "metadata": {},
     "output_type": "execute_result"
    }
   ],
   "source": [
    "df_future"
   ]
  },
  {
   "cell_type": "markdown",
   "metadata": {},
   "source": []
  },
  {
   "cell_type": "code",
   "execution_count": 57,
   "metadata": {},
   "outputs": [],
   "source": [
    "#dumping model\n",
    "# import pickle\n",
    "# filename = \"trained_model.sav\"\n",
    "# pickle.dump(model1, open(filename, 'wb'))\n",
    "#loaded_model = pickle.load(open(\"stock_prediction_lstm.h5\", 'rb'))"
   ]
  },
  {
   "cell_type": "code",
   "execution_count": null,
   "metadata": {},
   "outputs": [],
   "source": []
  }
 ],
 "metadata": {
  "interpreter": {
   "hash": "41e02fa9e6f67802ee52765a46a5361f864405f10fddd85900b0b50f8c028bf5"
  },
  "kernelspec": {
   "display_name": "Python 3",
   "language": "python",
   "name": "python3"
  },
  "language_info": {
   "codemirror_mode": {
    "name": "ipython",
    "version": 3
   },
   "file_extension": ".py",
   "mimetype": "text/x-python",
   "name": "python",
   "nbconvert_exporter": "python",
   "pygments_lexer": "ipython3",
   "version": "3.8.8"
  }
 },
 "nbformat": 4,
 "nbformat_minor": 2
}
