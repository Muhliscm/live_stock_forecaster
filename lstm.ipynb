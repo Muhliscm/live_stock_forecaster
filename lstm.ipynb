{
 "cells": [
  {
   "cell_type": "code",
   "execution_count": 166,
   "metadata": {},
   "outputs": [],
   "source": [
    "import pandas as np\n",
    "import yfinance as yf\n",
    "import numpy as np"
   ]
  },
  {
   "cell_type": "code",
   "execution_count": 167,
   "metadata": {},
   "outputs": [],
   "source": [
    "tick = yf.Ticker(\"MSFT\")\n"
   ]
  },
  {
   "cell_type": "code",
   "execution_count": 168,
   "metadata": {},
   "outputs": [],
   "source": [
    "#tick.info"
   ]
  },
  {
   "cell_type": "code",
   "execution_count": 169,
   "metadata": {},
   "outputs": [],
   "source": [
    "hist = tick.history(\"max\")"
   ]
  },
  {
   "cell_type": "code",
   "execution_count": 170,
   "metadata": {},
   "outputs": [
    {
     "data": {
      "text/html": [
       "<div>\n",
       "<style scoped>\n",
       "    .dataframe tbody tr th:only-of-type {\n",
       "        vertical-align: middle;\n",
       "    }\n",
       "\n",
       "    .dataframe tbody tr th {\n",
       "        vertical-align: top;\n",
       "    }\n",
       "\n",
       "    .dataframe thead th {\n",
       "        text-align: right;\n",
       "    }\n",
       "</style>\n",
       "<table border=\"1\" class=\"dataframe\">\n",
       "  <thead>\n",
       "    <tr style=\"text-align: right;\">\n",
       "      <th></th>\n",
       "      <th>Open</th>\n",
       "      <th>High</th>\n",
       "      <th>Low</th>\n",
       "      <th>Close</th>\n",
       "      <th>Volume</th>\n",
       "      <th>Dividends</th>\n",
       "      <th>Stock Splits</th>\n",
       "    </tr>\n",
       "    <tr>\n",
       "      <th>Date</th>\n",
       "      <th></th>\n",
       "      <th></th>\n",
       "      <th></th>\n",
       "      <th></th>\n",
       "      <th></th>\n",
       "      <th></th>\n",
       "      <th></th>\n",
       "    </tr>\n",
       "  </thead>\n",
       "  <tbody>\n",
       "    <tr>\n",
       "      <th>1986-03-13</th>\n",
       "      <td>0.055899</td>\n",
       "      <td>0.064119</td>\n",
       "      <td>0.055899</td>\n",
       "      <td>0.061378</td>\n",
       "      <td>1031788800</td>\n",
       "      <td>0.0</td>\n",
       "      <td>0.0</td>\n",
       "    </tr>\n",
       "    <tr>\n",
       "      <th>1986-03-14</th>\n",
       "      <td>0.061378</td>\n",
       "      <td>0.064667</td>\n",
       "      <td>0.061378</td>\n",
       "      <td>0.063570</td>\n",
       "      <td>308160000</td>\n",
       "      <td>0.0</td>\n",
       "      <td>0.0</td>\n",
       "    </tr>\n",
       "    <tr>\n",
       "      <th>1986-03-17</th>\n",
       "      <td>0.063570</td>\n",
       "      <td>0.065215</td>\n",
       "      <td>0.063570</td>\n",
       "      <td>0.064667</td>\n",
       "      <td>133171200</td>\n",
       "      <td>0.0</td>\n",
       "      <td>0.0</td>\n",
       "    </tr>\n",
       "    <tr>\n",
       "      <th>1986-03-18</th>\n",
       "      <td>0.064667</td>\n",
       "      <td>0.065215</td>\n",
       "      <td>0.062474</td>\n",
       "      <td>0.063022</td>\n",
       "      <td>67766400</td>\n",
       "      <td>0.0</td>\n",
       "      <td>0.0</td>\n",
       "    </tr>\n",
       "    <tr>\n",
       "      <th>1986-03-19</th>\n",
       "      <td>0.063022</td>\n",
       "      <td>0.063570</td>\n",
       "      <td>0.061378</td>\n",
       "      <td>0.061926</td>\n",
       "      <td>47894400</td>\n",
       "      <td>0.0</td>\n",
       "      <td>0.0</td>\n",
       "    </tr>\n",
       "    <tr>\n",
       "      <th>...</th>\n",
       "      <td>...</td>\n",
       "      <td>...</td>\n",
       "      <td>...</td>\n",
       "      <td>...</td>\n",
       "      <td>...</td>\n",
       "      <td>...</td>\n",
       "      <td>...</td>\n",
       "    </tr>\n",
       "    <tr>\n",
       "      <th>2022-02-01</th>\n",
       "      <td>310.410004</td>\n",
       "      <td>310.630005</td>\n",
       "      <td>305.130005</td>\n",
       "      <td>308.760010</td>\n",
       "      <td>40950400</td>\n",
       "      <td>0.0</td>\n",
       "      <td>0.0</td>\n",
       "    </tr>\n",
       "    <tr>\n",
       "      <th>2022-02-02</th>\n",
       "      <td>309.630005</td>\n",
       "      <td>315.119995</td>\n",
       "      <td>308.880005</td>\n",
       "      <td>313.459991</td>\n",
       "      <td>36636000</td>\n",
       "      <td>0.0</td>\n",
       "      <td>0.0</td>\n",
       "    </tr>\n",
       "    <tr>\n",
       "      <th>2022-02-03</th>\n",
       "      <td>309.489990</td>\n",
       "      <td>311.230011</td>\n",
       "      <td>299.959991</td>\n",
       "      <td>301.250000</td>\n",
       "      <td>43730000</td>\n",
       "      <td>0.0</td>\n",
       "      <td>0.0</td>\n",
       "    </tr>\n",
       "    <tr>\n",
       "      <th>2022-02-04</th>\n",
       "      <td>300.209991</td>\n",
       "      <td>308.799988</td>\n",
       "      <td>299.970001</td>\n",
       "      <td>305.940002</td>\n",
       "      <td>35070300</td>\n",
       "      <td>0.0</td>\n",
       "      <td>0.0</td>\n",
       "    </tr>\n",
       "    <tr>\n",
       "      <th>2022-02-07</th>\n",
       "      <td>306.170013</td>\n",
       "      <td>307.839996</td>\n",
       "      <td>299.899994</td>\n",
       "      <td>300.950012</td>\n",
       "      <td>28486200</td>\n",
       "      <td>0.0</td>\n",
       "      <td>0.0</td>\n",
       "    </tr>\n",
       "  </tbody>\n",
       "</table>\n",
       "<p>9051 rows × 7 columns</p>\n",
       "</div>"
      ],
      "text/plain": [
       "                  Open        High         Low       Close      Volume  \\\n",
       "Date                                                                     \n",
       "1986-03-13    0.055899    0.064119    0.055899    0.061378  1031788800   \n",
       "1986-03-14    0.061378    0.064667    0.061378    0.063570   308160000   \n",
       "1986-03-17    0.063570    0.065215    0.063570    0.064667   133171200   \n",
       "1986-03-18    0.064667    0.065215    0.062474    0.063022    67766400   \n",
       "1986-03-19    0.063022    0.063570    0.061378    0.061926    47894400   \n",
       "...                ...         ...         ...         ...         ...   \n",
       "2022-02-01  310.410004  310.630005  305.130005  308.760010    40950400   \n",
       "2022-02-02  309.630005  315.119995  308.880005  313.459991    36636000   \n",
       "2022-02-03  309.489990  311.230011  299.959991  301.250000    43730000   \n",
       "2022-02-04  300.209991  308.799988  299.970001  305.940002    35070300   \n",
       "2022-02-07  306.170013  307.839996  299.899994  300.950012    28486200   \n",
       "\n",
       "            Dividends  Stock Splits  \n",
       "Date                                 \n",
       "1986-03-13        0.0           0.0  \n",
       "1986-03-14        0.0           0.0  \n",
       "1986-03-17        0.0           0.0  \n",
       "1986-03-18        0.0           0.0  \n",
       "1986-03-19        0.0           0.0  \n",
       "...               ...           ...  \n",
       "2022-02-01        0.0           0.0  \n",
       "2022-02-02        0.0           0.0  \n",
       "2022-02-03        0.0           0.0  \n",
       "2022-02-04        0.0           0.0  \n",
       "2022-02-07        0.0           0.0  \n",
       "\n",
       "[9051 rows x 7 columns]"
      ]
     },
     "execution_count": 170,
     "metadata": {},
     "output_type": "execute_result"
    }
   ],
   "source": [
    "hist"
   ]
  },
  {
   "cell_type": "code",
   "execution_count": 171,
   "metadata": {},
   "outputs": [],
   "source": [
    "df = hist.Close\n"
   ]
  },
  {
   "cell_type": "code",
   "execution_count": 172,
   "metadata": {},
   "outputs": [
    {
     "data": {
      "text/plain": [
       "Date\n",
       "1986-03-13    0.061378\n",
       "1986-03-14    0.063570\n",
       "1986-03-17    0.064667\n",
       "1986-03-18    0.063022\n",
       "1986-03-19    0.061926\n",
       "Name: Close, dtype: float64"
      ]
     },
     "execution_count": 172,
     "metadata": {},
     "output_type": "execute_result"
    }
   ],
   "source": [
    "df.head()"
   ]
  },
  {
   "cell_type": "code",
   "execution_count": 173,
   "metadata": {},
   "outputs": [
    {
     "data": {
      "text/plain": [
       "Date\n",
       "2022-02-01    308.760010\n",
       "2022-02-02    313.459991\n",
       "2022-02-03    301.250000\n",
       "2022-02-04    305.940002\n",
       "2022-02-07    300.950012\n",
       "Name: Close, dtype: float64"
      ]
     },
     "execution_count": 173,
     "metadata": {},
     "output_type": "execute_result"
    }
   ],
   "source": [
    "df.tail()"
   ]
  },
  {
   "cell_type": "code",
   "execution_count": 174,
   "metadata": {},
   "outputs": [
    {
     "data": {
      "text/plain": [
       "0"
      ]
     },
     "execution_count": 174,
     "metadata": {},
     "output_type": "execute_result"
    }
   ],
   "source": [
    "df.isnull().sum()"
   ]
  },
  {
   "cell_type": "code",
   "execution_count": 175,
   "metadata": {},
   "outputs": [
    {
     "data": {
      "text/plain": [
       "[<matplotlib.lines.Line2D at 0x1c5b84b00d0>]"
      ]
     },
     "execution_count": 175,
     "metadata": {},
     "output_type": "execute_result"
    },
    {
     "data": {
      "image/png": "[encoded data removed]",
      "text/plain": [
       "<Figure size 432x288 with 1 Axes>"
      ]
     },
     "metadata": {
      "needs_background": "light"
     },
     "output_type": "display_data"
    }
   ],
   "source": [
    "import matplotlib.pyplot as plt\n",
    "plt.plot(df)"
   ]
  },
  {
   "cell_type": "code",
   "execution_count": 176,
   "metadata": {},
   "outputs": [
    {
     "data": {
      "text/plain": [
       "pandas.core.series.Series"
      ]
     },
     "execution_count": 176,
     "metadata": {},
     "output_type": "execute_result"
    }
   ],
   "source": [
    "# Data preprocessing\n",
    "type(df)"
   ]
  },
  {
   "cell_type": "code",
   "execution_count": 177,
   "metadata": {},
   "outputs": [],
   "source": [
    "df = df.to_frame()"
   ]
  },
  {
   "cell_type": "code",
   "execution_count": 178,
   "metadata": {},
   "outputs": [
    {
     "data": {
      "text/plain": [
       "pandas.core.frame.DataFrame"
      ]
     },
     "execution_count": 178,
     "metadata": {},
     "output_type": "execute_result"
    }
   ],
   "source": [
    "type(df)"
   ]
  },
  {
   "cell_type": "code",
   "execution_count": 179,
   "metadata": {},
   "outputs": [
    {
     "data": {
      "text/html": [
       "<div>\n",
       "<style scoped>\n",
       "    .dataframe tbody tr th:only-of-type {\n",
       "        vertical-align: middle;\n",
       "    }\n",
       "\n",
       "    .dataframe tbody tr th {\n",
       "        vertical-align: top;\n",
       "    }\n",
       "\n",
       "    .dataframe thead th {\n",
       "        text-align: right;\n",
       "    }\n",
       "</style>\n",
       "<table border=\"1\" class=\"dataframe\">\n",
       "  <thead>\n",
       "    <tr style=\"text-align: right;\">\n",
       "      <th></th>\n",
       "      <th>Close</th>\n",
       "    </tr>\n",
       "    <tr>\n",
       "      <th>Date</th>\n",
       "      <th></th>\n",
       "    </tr>\n",
       "  </thead>\n",
       "  <tbody>\n",
       "    <tr>\n",
       "      <th>1986-03-13</th>\n",
       "      <td>0.061378</td>\n",
       "    </tr>\n",
       "    <tr>\n",
       "      <th>1986-03-14</th>\n",
       "      <td>0.063570</td>\n",
       "    </tr>\n",
       "    <tr>\n",
       "      <th>1986-03-17</th>\n",
       "      <td>0.064667</td>\n",
       "    </tr>\n",
       "    <tr>\n",
       "      <th>1986-03-18</th>\n",
       "      <td>0.063022</td>\n",
       "    </tr>\n",
       "    <tr>\n",
       "      <th>1986-03-19</th>\n",
       "      <td>0.061926</td>\n",
       "    </tr>\n",
       "  </tbody>\n",
       "</table>\n",
       "</div>"
      ],
      "text/plain": [
       "               Close\n",
       "Date                \n",
       "1986-03-13  0.061378\n",
       "1986-03-14  0.063570\n",
       "1986-03-17  0.064667\n",
       "1986-03-18  0.063022\n",
       "1986-03-19  0.061926"
      ]
     },
     "execution_count": 179,
     "metadata": {},
     "output_type": "execute_result"
    }
   ],
   "source": [
    "df.head()"
   ]
  },
  {
   "cell_type": "code",
   "execution_count": 180,
   "metadata": {},
   "outputs": [],
   "source": [
    "df = df.reset_index()"
   ]
  },
  {
   "cell_type": "code",
   "execution_count": 181,
   "metadata": {},
   "outputs": [
    {
     "data": {
      "text/plain": [
       "Index(['Date', 'Close'], dtype='object')"
      ]
     },
     "execution_count": 181,
     "metadata": {},
     "output_type": "execute_result"
    }
   ],
   "source": [
    "df.columns"
   ]
  },
  {
   "cell_type": "code",
   "execution_count": 182,
   "metadata": {},
   "outputs": [],
   "source": [
    "#type(df)"
   ]
  },
  {
   "cell_type": "code",
   "execution_count": 183,
   "metadata": {},
   "outputs": [],
   "source": [
    "import datetime as datetime\n",
    "import pandas as pd\n",
    "training_dates = pd.to_datetime(df[\"Date\"])"
   ]
  },
  {
   "cell_type": "code",
   "execution_count": 184,
   "metadata": {},
   "outputs": [
    {
     "data": {
      "text/plain": [
       "0      1986-03-13\n",
       "1      1986-03-14\n",
       "2      1986-03-17\n",
       "3      1986-03-18\n",
       "4      1986-03-19\n",
       "          ...    \n",
       "9046   2022-02-01\n",
       "9047   2022-02-02\n",
       "9048   2022-02-03\n",
       "9049   2022-02-04\n",
       "9050   2022-02-07\n",
       "Name: Date, Length: 9051, dtype: datetime64[ns]"
      ]
     },
     "execution_count": 184,
     "metadata": {},
     "output_type": "execute_result"
    }
   ],
   "source": [
    "training_dates"
   ]
  },
  {
   "cell_type": "code",
   "execution_count": 185,
   "metadata": {},
   "outputs": [
    {
     "data": {
      "text/plain": [
       "[<matplotlib.lines.Line2D at 0x1c5b85037f0>]"
      ]
     },
     "execution_count": 185,
     "metadata": {},
     "output_type": "execute_result"
    },
    {
     "data": {
      "image/png": "[encoded data removed]",
      "text/plain": [
       "<Figure size 432x288 with 1 Axes>"
      ]
     },
     "metadata": {
      "needs_background": "light"
     },
     "output_type": "display_data"
    }
   ],
   "source": [
    "plt.plot(training_dates, df[\"Close\"])"
   ]
  },
  {
   "cell_type": "code",
   "execution_count": 186,
   "metadata": {},
   "outputs": [],
   "source": [
    "df_for_training = df[[\"Close\"]]"
   ]
  },
  {
   "cell_type": "code",
   "execution_count": 187,
   "metadata": {},
   "outputs": [
    {
     "data": {
      "text/plain": [
       "pandas.core.frame.DataFrame"
      ]
     },
     "execution_count": 187,
     "metadata": {},
     "output_type": "execute_result"
    }
   ],
   "source": [
    "type(df_for_training)"
   ]
  },
  {
   "cell_type": "code",
   "execution_count": 188,
   "metadata": {},
   "outputs": [
    {
     "data": {
      "text/plain": [
       "(9051, 1)"
      ]
     },
     "execution_count": 188,
     "metadata": {},
     "output_type": "execute_result"
    }
   ],
   "source": [
    "df_for_training.shape"
   ]
  },
  {
   "cell_type": "code",
   "execution_count": 189,
   "metadata": {},
   "outputs": [],
   "source": [
    "#np.reshape(df[\"Close\"], (-1, 1))"
   ]
  },
  {
   "cell_type": "code",
   "execution_count": 190,
   "metadata": {},
   "outputs": [],
   "source": [
    "#df_for_training = df_for_training.reshape(-1, 1)"
   ]
  },
  {
   "cell_type": "code",
   "execution_count": 191,
   "metadata": {},
   "outputs": [],
   "source": [
    "# # future scaling\n",
    "# from sklearn.preprocessing import StandardScaler\n",
    "# sc = StandardScaler()\n",
    "# sc.fit_transform(df_for_training)"
   ]
  },
  {
   "cell_type": "code",
   "execution_count": 192,
   "metadata": {},
   "outputs": [
    {
     "data": {
      "text/plain": [
       "array([[1.27791492e-05],\n",
       "       [1.91686423e-05],\n",
       "       [2.23652295e-05],\n",
       "       ...,\n",
       "       [8.77978078e-01],\n",
       "       [8.91649442e-01],\n",
       "       [8.77103613e-01]])"
      ]
     },
     "execution_count": 192,
     "metadata": {},
     "output_type": "execute_result"
    }
   ],
   "source": [
    "from sklearn.preprocessing import StandardScaler\n",
    "sc = StandardScaler()\n",
    "sc.fit_transform(df_for_training)"
   ]
  },
  {
   "cell_type": "code",
   "execution_count": 193,
   "metadata": {},
   "outputs": [],
   "source": [
    "# Creating dataset\n",
    "train_X = []\n",
    "train_Y = []\n",
    "\n",
    "n_future = 1\n",
    "n_past = 14\n",
    "\n",
    "\n",
    "\n",
    "    "
   ]
  },
  {
   "cell_type": "code",
   "execution_count": 194,
   "metadata": {},
   "outputs": [
    {
     "data": {
      "text/plain": [
       "array([[0.06137838],\n",
       "       [0.06357031],\n",
       "       [0.06466691],\n",
       "       [0.06302229],\n",
       "       [0.06192635],\n",
       "       [0.06028238],\n",
       "       [0.0586384 ],\n",
       "       [0.05699445],\n",
       "       [0.05809045],\n",
       "       [0.05973437],\n",
       "       [0.06083035],\n",
       "       [0.06028238],\n",
       "       [0.05973437],\n",
       "       [0.06028238],\n",
       "       [0.06083035],\n",
       "       [0.06083035],\n",
       "       [0.05973437],\n",
       "       [0.06028238],\n",
       "       [0.06137838],\n",
       "       [0.06192635],\n",
       "       [0.06302229],\n",
       "       [0.06357031],\n",
       "       [0.06357031],\n",
       "       [0.0657629 ],\n",
       "       [0.06631088],\n",
       "       [0.06411894],\n",
       "       [0.06411894],\n",
       "       [0.06302229],\n",
       "       [0.06329633],\n",
       "       [0.06959879],\n",
       "       [0.07398333],\n",
       "       [0.07453133],\n",
       "       [0.07233869],\n",
       "       [0.07069477],\n",
       "       [0.06959879],\n",
       "       [0.06959879],\n",
       "       [0.0690508 ],\n",
       "       [0.06959879],\n",
       "       [0.06959879],\n",
       "       [0.07014679],\n",
       "       [0.06959879],\n",
       "       [0.07014679],\n",
       "       [0.07069477],\n",
       "       [0.07014679],\n",
       "       [0.07014679],\n",
       "       [0.07069477],\n",
       "       [0.06959879],\n",
       "       [0.0690508 ],\n",
       "       [0.06795482],\n",
       "       [0.06795482],\n",
       "       [0.06795482],\n",
       "       [0.07014679],\n",
       "       [0.07233869],\n",
       "       [0.07398333],\n",
       "       [0.07672327],\n",
       "       [0.07453133],\n",
       "       [0.07453133],\n",
       "       [0.07398333],\n",
       "       [0.07507928],\n",
       "       [0.07507928],\n",
       "       [0.07179072],\n",
       "       [0.07179072],\n",
       "       [0.07179072],\n",
       "       [0.0690508 ],\n",
       "       [0.0690508 ],\n",
       "       [0.06850284],\n",
       "       [0.06959879],\n",
       "       [0.0690508 ],\n",
       "       [0.06850284],\n",
       "       [0.06877681],\n",
       "       [0.06959879],\n",
       "       [0.0690508 ],\n",
       "       [0.06795482],\n",
       "       [0.0657629 ],\n",
       "       [0.06521489],\n",
       "       [0.06740686],\n",
       "       [0.06740686],\n",
       "       [0.06740686],\n",
       "       [0.06850284],\n",
       "       [0.0657629 ],\n",
       "       [0.06411894],\n",
       "       [0.06137838],\n",
       "       [0.05973437],\n",
       "       [0.06137838],\n",
       "       [0.06055636],\n",
       "       [0.06137838],\n",
       "       [0.06357031],\n",
       "       [0.06466691],\n",
       "       [0.06521489],\n",
       "       [0.06521489],\n",
       "       [0.06740686],\n",
       "       [0.0657629 ],\n",
       "       [0.06795482],\n",
       "       [0.06850284],\n",
       "       [0.0668589 ],\n",
       "       [0.06521489],\n",
       "       [0.06302229],\n",
       "       [0.06247434],\n",
       "       [0.06192635],\n",
       "       [0.06192635]])"
      ]
     },
     "execution_count": 194,
     "metadata": {},
     "output_type": "execute_result"
    }
   ],
   "source": [
    "df_test = df_for_training[:100].values\n",
    "df_test"
   ]
  },
  {
   "cell_type": "code",
   "execution_count": 195,
   "metadata": {},
   "outputs": [
    {
     "data": {
      "text/plain": [
       "(100, 1)"
      ]
     },
     "execution_count": 195,
     "metadata": {},
     "output_type": "execute_result"
    }
   ],
   "source": [
    "df_test.shape"
   ]
  },
  {
   "cell_type": "code",
   "execution_count": 196,
   "metadata": {},
   "outputs": [],
   "source": [
    "x_check = []\n",
    "y_check = []"
   ]
  },
  {
   "cell_type": "code",
   "execution_count": 197,
   "metadata": {},
   "outputs": [
    {
     "data": {
      "text/plain": [
       "numpy.ndarray"
      ]
     },
     "execution_count": 197,
     "metadata": {},
     "output_type": "execute_result"
    }
   ],
   "source": [
    "type(df_test)"
   ]
  },
  {
   "cell_type": "code",
   "execution_count": 198,
   "metadata": {},
   "outputs": [],
   "source": [
    "for i in range(len(df_test)-n_past-1):\n",
    "\t\ta = df_test[i:(i+n_past), 0]   ###i=0, 0,1,2,3-----99   100 \n",
    "\t\tx_check.append(a)\n",
    "\t\ty_check.append(df_test[i + n_past, 0])\n",
    "    "
   ]
  },
  {
   "cell_type": "code",
   "execution_count": 199,
   "metadata": {},
   "outputs": [
    {
     "data": {
      "text/plain": [
       "85"
      ]
     },
     "execution_count": 199,
     "metadata": {},
     "output_type": "execute_result"
    }
   ],
   "source": [
    "len(x_check)"
   ]
  },
  {
   "cell_type": "code",
   "execution_count": 200,
   "metadata": {},
   "outputs": [
    {
     "data": {
      "text/plain": [
       "[array([0.06137838, 0.06357031, 0.06466691, 0.06302229, 0.06192635,\n",
       "        0.06028238, 0.0586384 , 0.05699445, 0.05809045, 0.05973437,\n",
       "        0.06083035, 0.06028238, 0.05973437, 0.06028238]),\n",
       " array([0.06357031, 0.06466691, 0.06302229, 0.06192635, 0.06028238,\n",
       "        0.0586384 , 0.05699445, 0.05809045, 0.05973437, 0.06083035,\n",
       "        0.06028238, 0.05973437, 0.06028238, 0.06083035]),\n",
       " array([0.06466691, 0.06302229, 0.06192635, 0.06028238, 0.0586384 ,\n",
       "        0.05699445, 0.05809045, 0.05973437, 0.06083035, 0.06028238,\n",
       "        0.05973437, 0.06028238, 0.06083035, 0.06083035]),\n",
       " array([0.06302229, 0.06192635, 0.06028238, 0.0586384 , 0.05699445,\n",
       "        0.05809045, 0.05973437, 0.06083035, 0.06028238, 0.05973437,\n",
       "        0.06028238, 0.06083035, 0.06083035, 0.05973437]),\n",
       " array([0.06192635, 0.06028238, 0.0586384 , 0.05699445, 0.05809045,\n",
       "        0.05973437, 0.06083035, 0.06028238, 0.05973437, 0.06028238,\n",
       "        0.06083035, 0.06083035, 0.05973437, 0.06028238]),\n",
       " array([0.06028238, 0.0586384 , 0.05699445, 0.05809045, 0.05973437,\n",
       "        0.06083035, 0.06028238, 0.05973437, 0.06028238, 0.06083035,\n",
       "        0.06083035, 0.05973437, 0.06028238, 0.06137838]),\n",
       " array([0.0586384 , 0.05699445, 0.05809045, 0.05973437, 0.06083035,\n",
       "        0.06028238, 0.05973437, 0.06028238, 0.06083035, 0.06083035,\n",
       "        0.05973437, 0.06028238, 0.06137838, 0.06192635]),\n",
       " array([0.05699445, 0.05809045, 0.05973437, 0.06083035, 0.06028238,\n",
       "        0.05973437, 0.06028238, 0.06083035, 0.06083035, 0.05973437,\n",
       "        0.06028238, 0.06137838, 0.06192635, 0.06302229]),\n",
       " array([0.05809045, 0.05973437, 0.06083035, 0.06028238, 0.05973437,\n",
       "        0.06028238, 0.06083035, 0.06083035, 0.05973437, 0.06028238,\n",
       "        0.06137838, 0.06192635, 0.06302229, 0.06357031]),\n",
       " array([0.05973437, 0.06083035, 0.06028238, 0.05973437, 0.06028238,\n",
       "        0.06083035, 0.06083035, 0.05973437, 0.06028238, 0.06137838,\n",
       "        0.06192635, 0.06302229, 0.06357031, 0.06357031]),\n",
       " array([0.06083035, 0.06028238, 0.05973437, 0.06028238, 0.06083035,\n",
       "        0.06083035, 0.05973437, 0.06028238, 0.06137838, 0.06192635,\n",
       "        0.06302229, 0.06357031, 0.06357031, 0.0657629 ]),\n",
       " array([0.06028238, 0.05973437, 0.06028238, 0.06083035, 0.06083035,\n",
       "        0.05973437, 0.06028238, 0.06137838, 0.06192635, 0.06302229,\n",
       "        0.06357031, 0.06357031, 0.0657629 , 0.06631088]),\n",
       " array([0.05973437, 0.06028238, 0.06083035, 0.06083035, 0.05973437,\n",
       "        0.06028238, 0.06137838, 0.06192635, 0.06302229, 0.06357031,\n",
       "        0.06357031, 0.0657629 , 0.06631088, 0.06411894]),\n",
       " array([0.06028238, 0.06083035, 0.06083035, 0.05973437, 0.06028238,\n",
       "        0.06137838, 0.06192635, 0.06302229, 0.06357031, 0.06357031,\n",
       "        0.0657629 , 0.06631088, 0.06411894, 0.06411894]),\n",
       " array([0.06083035, 0.06083035, 0.05973437, 0.06028238, 0.06137838,\n",
       "        0.06192635, 0.06302229, 0.06357031, 0.06357031, 0.0657629 ,\n",
       "        0.06631088, 0.06411894, 0.06411894, 0.06302229]),\n",
       " array([0.06083035, 0.05973437, 0.06028238, 0.06137838, 0.06192635,\n",
       "        0.06302229, 0.06357031, 0.06357031, 0.0657629 , 0.06631088,\n",
       "        0.06411894, 0.06411894, 0.06302229, 0.06329633]),\n",
       " array([0.05973437, 0.06028238, 0.06137838, 0.06192635, 0.06302229,\n",
       "        0.06357031, 0.06357031, 0.0657629 , 0.06631088, 0.06411894,\n",
       "        0.06411894, 0.06302229, 0.06329633, 0.06959879]),\n",
       " array([0.06028238, 0.06137838, 0.06192635, 0.06302229, 0.06357031,\n",
       "        0.06357031, 0.0657629 , 0.06631088, 0.06411894, 0.06411894,\n",
       "        0.06302229, 0.06329633, 0.06959879, 0.07398333]),\n",
       " array([0.06137838, 0.06192635, 0.06302229, 0.06357031, 0.06357031,\n",
       "        0.0657629 , 0.06631088, 0.06411894, 0.06411894, 0.06302229,\n",
       "        0.06329633, 0.06959879, 0.07398333, 0.07453133]),\n",
       " array([0.06192635, 0.06302229, 0.06357031, 0.06357031, 0.0657629 ,\n",
       "        0.06631088, 0.06411894, 0.06411894, 0.06302229, 0.06329633,\n",
       "        0.06959879, 0.07398333, 0.07453133, 0.07233869]),\n",
       " array([0.06302229, 0.06357031, 0.06357031, 0.0657629 , 0.06631088,\n",
       "        0.06411894, 0.06411894, 0.06302229, 0.06329633, 0.06959879,\n",
       "        0.07398333, 0.07453133, 0.07233869, 0.07069477]),\n",
       " array([0.06357031, 0.06357031, 0.0657629 , 0.06631088, 0.06411894,\n",
       "        0.06411894, 0.06302229, 0.06329633, 0.06959879, 0.07398333,\n",
       "        0.07453133, 0.07233869, 0.07069477, 0.06959879]),\n",
       " array([0.06357031, 0.0657629 , 0.06631088, 0.06411894, 0.06411894,\n",
       "        0.06302229, 0.06329633, 0.06959879, 0.07398333, 0.07453133,\n",
       "        0.07233869, 0.07069477, 0.06959879, 0.06959879]),\n",
       " array([0.0657629 , 0.06631088, 0.06411894, 0.06411894, 0.06302229,\n",
       "        0.06329633, 0.06959879, 0.07398333, 0.07453133, 0.07233869,\n",
       "        0.07069477, 0.06959879, 0.06959879, 0.0690508 ]),\n",
       " array([0.06631088, 0.06411894, 0.06411894, 0.06302229, 0.06329633,\n",
       "        0.06959879, 0.07398333, 0.07453133, 0.07233869, 0.07069477,\n",
       "        0.06959879, 0.06959879, 0.0690508 , 0.06959879]),\n",
       " array([0.06411894, 0.06411894, 0.06302229, 0.06329633, 0.06959879,\n",
       "        0.07398333, 0.07453133, 0.07233869, 0.07069477, 0.06959879,\n",
       "        0.06959879, 0.0690508 , 0.06959879, 0.06959879]),\n",
       " array([0.06411894, 0.06302229, 0.06329633, 0.06959879, 0.07398333,\n",
       "        0.07453133, 0.07233869, 0.07069477, 0.06959879, 0.06959879,\n",
       "        0.0690508 , 0.06959879, 0.06959879, 0.07014679]),\n",
       " array([0.06302229, 0.06329633, 0.06959879, 0.07398333, 0.07453133,\n",
       "        0.07233869, 0.07069477, 0.06959879, 0.06959879, 0.0690508 ,\n",
       "        0.06959879, 0.06959879, 0.07014679, 0.06959879]),\n",
       " array([0.06329633, 0.06959879, 0.07398333, 0.07453133, 0.07233869,\n",
       "        0.07069477, 0.06959879, 0.06959879, 0.0690508 , 0.06959879,\n",
       "        0.06959879, 0.07014679, 0.06959879, 0.07014679]),\n",
       " array([0.06959879, 0.07398333, 0.07453133, 0.07233869, 0.07069477,\n",
       "        0.06959879, 0.06959879, 0.0690508 , 0.06959879, 0.06959879,\n",
       "        0.07014679, 0.06959879, 0.07014679, 0.07069477]),\n",
       " array([0.07398333, 0.07453133, 0.07233869, 0.07069477, 0.06959879,\n",
       "        0.06959879, 0.0690508 , 0.06959879, 0.06959879, 0.07014679,\n",
       "        0.06959879, 0.07014679, 0.07069477, 0.07014679]),\n",
       " array([0.07453133, 0.07233869, 0.07069477, 0.06959879, 0.06959879,\n",
       "        0.0690508 , 0.06959879, 0.06959879, 0.07014679, 0.06959879,\n",
       "        0.07014679, 0.07069477, 0.07014679, 0.07014679]),\n",
       " array([0.07233869, 0.07069477, 0.06959879, 0.06959879, 0.0690508 ,\n",
       "        0.06959879, 0.06959879, 0.07014679, 0.06959879, 0.07014679,\n",
       "        0.07069477, 0.07014679, 0.07014679, 0.07069477]),\n",
       " array([0.07069477, 0.06959879, 0.06959879, 0.0690508 , 0.06959879,\n",
       "        0.06959879, 0.07014679, 0.06959879, 0.07014679, 0.07069477,\n",
       "        0.07014679, 0.07014679, 0.07069477, 0.06959879]),\n",
       " array([0.06959879, 0.06959879, 0.0690508 , 0.06959879, 0.06959879,\n",
       "        0.07014679, 0.06959879, 0.07014679, 0.07069477, 0.07014679,\n",
       "        0.07014679, 0.07069477, 0.06959879, 0.0690508 ]),\n",
       " array([0.06959879, 0.0690508 , 0.06959879, 0.06959879, 0.07014679,\n",
       "        0.06959879, 0.07014679, 0.07069477, 0.07014679, 0.07014679,\n",
       "        0.07069477, 0.06959879, 0.0690508 , 0.06795482]),\n",
       " array([0.0690508 , 0.06959879, 0.06959879, 0.07014679, 0.06959879,\n",
       "        0.07014679, 0.07069477, 0.07014679, 0.07014679, 0.07069477,\n",
       "        0.06959879, 0.0690508 , 0.06795482, 0.06795482]),\n",
       " array([0.06959879, 0.06959879, 0.07014679, 0.06959879, 0.07014679,\n",
       "        0.07069477, 0.07014679, 0.07014679, 0.07069477, 0.06959879,\n",
       "        0.0690508 , 0.06795482, 0.06795482, 0.06795482]),\n",
       " array([0.06959879, 0.07014679, 0.06959879, 0.07014679, 0.07069477,\n",
       "        0.07014679, 0.07014679, 0.07069477, 0.06959879, 0.0690508 ,\n",
       "        0.06795482, 0.06795482, 0.06795482, 0.07014679]),\n",
       " array([0.07014679, 0.06959879, 0.07014679, 0.07069477, 0.07014679,\n",
       "        0.07014679, 0.07069477, 0.06959879, 0.0690508 , 0.06795482,\n",
       "        0.06795482, 0.06795482, 0.07014679, 0.07233869]),\n",
       " array([0.06959879, 0.07014679, 0.07069477, 0.07014679, 0.07014679,\n",
       "        0.07069477, 0.06959879, 0.0690508 , 0.06795482, 0.06795482,\n",
       "        0.06795482, 0.07014679, 0.07233869, 0.07398333]),\n",
       " array([0.07014679, 0.07069477, 0.07014679, 0.07014679, 0.07069477,\n",
       "        0.06959879, 0.0690508 , 0.06795482, 0.06795482, 0.06795482,\n",
       "        0.07014679, 0.07233869, 0.07398333, 0.07672327]),\n",
       " array([0.07069477, 0.07014679, 0.07014679, 0.07069477, 0.06959879,\n",
       "        0.0690508 , 0.06795482, 0.06795482, 0.06795482, 0.07014679,\n",
       "        0.07233869, 0.07398333, 0.07672327, 0.07453133]),\n",
       " array([0.07014679, 0.07014679, 0.07069477, 0.06959879, 0.0690508 ,\n",
       "        0.06795482, 0.06795482, 0.06795482, 0.07014679, 0.07233869,\n",
       "        0.07398333, 0.07672327, 0.07453133, 0.07453133]),\n",
       " array([0.07014679, 0.07069477, 0.06959879, 0.0690508 , 0.06795482,\n",
       "        0.06795482, 0.06795482, 0.07014679, 0.07233869, 0.07398333,\n",
       "        0.07672327, 0.07453133, 0.07453133, 0.07398333]),\n",
       " array([0.07069477, 0.06959879, 0.0690508 , 0.06795482, 0.06795482,\n",
       "        0.06795482, 0.07014679, 0.07233869, 0.07398333, 0.07672327,\n",
       "        0.07453133, 0.07453133, 0.07398333, 0.07507928]),\n",
       " array([0.06959879, 0.0690508 , 0.06795482, 0.06795482, 0.06795482,\n",
       "        0.07014679, 0.07233869, 0.07398333, 0.07672327, 0.07453133,\n",
       "        0.07453133, 0.07398333, 0.07507928, 0.07507928]),\n",
       " array([0.0690508 , 0.06795482, 0.06795482, 0.06795482, 0.07014679,\n",
       "        0.07233869, 0.07398333, 0.07672327, 0.07453133, 0.07453133,\n",
       "        0.07398333, 0.07507928, 0.07507928, 0.07179072]),\n",
       " array([0.06795482, 0.06795482, 0.06795482, 0.07014679, 0.07233869,\n",
       "        0.07398333, 0.07672327, 0.07453133, 0.07453133, 0.07398333,\n",
       "        0.07507928, 0.07507928, 0.07179072, 0.07179072]),\n",
       " array([0.06795482, 0.06795482, 0.07014679, 0.07233869, 0.07398333,\n",
       "        0.07672327, 0.07453133, 0.07453133, 0.07398333, 0.07507928,\n",
       "        0.07507928, 0.07179072, 0.07179072, 0.07179072]),\n",
       " array([0.06795482, 0.07014679, 0.07233869, 0.07398333, 0.07672327,\n",
       "        0.07453133, 0.07453133, 0.07398333, 0.07507928, 0.07507928,\n",
       "        0.07179072, 0.07179072, 0.07179072, 0.0690508 ]),\n",
       " array([0.07014679, 0.07233869, 0.07398333, 0.07672327, 0.07453133,\n",
       "        0.07453133, 0.07398333, 0.07507928, 0.07507928, 0.07179072,\n",
       "        0.07179072, 0.07179072, 0.0690508 , 0.0690508 ]),\n",
       " array([0.07233869, 0.07398333, 0.07672327, 0.07453133, 0.07453133,\n",
       "        0.07398333, 0.07507928, 0.07507928, 0.07179072, 0.07179072,\n",
       "        0.07179072, 0.0690508 , 0.0690508 , 0.06850284]),\n",
       " array([0.07398333, 0.07672327, 0.07453133, 0.07453133, 0.07398333,\n",
       "        0.07507928, 0.07507928, 0.07179072, 0.07179072, 0.07179072,\n",
       "        0.0690508 , 0.0690508 , 0.06850284, 0.06959879]),\n",
       " array([0.07672327, 0.07453133, 0.07453133, 0.07398333, 0.07507928,\n",
       "        0.07507928, 0.07179072, 0.07179072, 0.07179072, 0.0690508 ,\n",
       "        0.0690508 , 0.06850284, 0.06959879, 0.0690508 ]),\n",
       " array([0.07453133, 0.07453133, 0.07398333, 0.07507928, 0.07507928,\n",
       "        0.07179072, 0.07179072, 0.07179072, 0.0690508 , 0.0690508 ,\n",
       "        0.06850284, 0.06959879, 0.0690508 , 0.06850284]),\n",
       " array([0.07453133, 0.07398333, 0.07507928, 0.07507928, 0.07179072,\n",
       "        0.07179072, 0.07179072, 0.0690508 , 0.0690508 , 0.06850284,\n",
       "        0.06959879, 0.0690508 , 0.06850284, 0.06877681]),\n",
       " array([0.07398333, 0.07507928, 0.07507928, 0.07179072, 0.07179072,\n",
       "        0.07179072, 0.0690508 , 0.0690508 , 0.06850284, 0.06959879,\n",
       "        0.0690508 , 0.06850284, 0.06877681, 0.06959879]),\n",
       " array([0.07507928, 0.07507928, 0.07179072, 0.07179072, 0.07179072,\n",
       "        0.0690508 , 0.0690508 , 0.06850284, 0.06959879, 0.0690508 ,\n",
       "        0.06850284, 0.06877681, 0.06959879, 0.0690508 ]),\n",
       " array([0.07507928, 0.07179072, 0.07179072, 0.07179072, 0.0690508 ,\n",
       "        0.0690508 , 0.06850284, 0.06959879, 0.0690508 , 0.06850284,\n",
       "        0.06877681, 0.06959879, 0.0690508 , 0.06795482]),\n",
       " array([0.07179072, 0.07179072, 0.07179072, 0.0690508 , 0.0690508 ,\n",
       "        0.06850284, 0.06959879, 0.0690508 , 0.06850284, 0.06877681,\n",
       "        0.06959879, 0.0690508 , 0.06795482, 0.0657629 ]),\n",
       " array([0.07179072, 0.07179072, 0.0690508 , 0.0690508 , 0.06850284,\n",
       "        0.06959879, 0.0690508 , 0.06850284, 0.06877681, 0.06959879,\n",
       "        0.0690508 , 0.06795482, 0.0657629 , 0.06521489]),\n",
       " array([0.07179072, 0.0690508 , 0.0690508 , 0.06850284, 0.06959879,\n",
       "        0.0690508 , 0.06850284, 0.06877681, 0.06959879, 0.0690508 ,\n",
       "        0.06795482, 0.0657629 , 0.06521489, 0.06740686]),\n",
       " array([0.0690508 , 0.0690508 , 0.06850284, 0.06959879, 0.0690508 ,\n",
       "        0.06850284, 0.06877681, 0.06959879, 0.0690508 , 0.06795482,\n",
       "        0.0657629 , 0.06521489, 0.06740686, 0.06740686]),\n",
       " array([0.0690508 , 0.06850284, 0.06959879, 0.0690508 , 0.06850284,\n",
       "        0.06877681, 0.06959879, 0.0690508 , 0.06795482, 0.0657629 ,\n",
       "        0.06521489, 0.06740686, 0.06740686, 0.06740686]),\n",
       " array([0.06850284, 0.06959879, 0.0690508 , 0.06850284, 0.06877681,\n",
       "        0.06959879, 0.0690508 , 0.06795482, 0.0657629 , 0.06521489,\n",
       "        0.06740686, 0.06740686, 0.06740686, 0.06850284]),\n",
       " array([0.06959879, 0.0690508 , 0.06850284, 0.06877681, 0.06959879,\n",
       "        0.0690508 , 0.06795482, 0.0657629 , 0.06521489, 0.06740686,\n",
       "        0.06740686, 0.06740686, 0.06850284, 0.0657629 ]),\n",
       " array([0.0690508 , 0.06850284, 0.06877681, 0.06959879, 0.0690508 ,\n",
       "        0.06795482, 0.0657629 , 0.06521489, 0.06740686, 0.06740686,\n",
       "        0.06740686, 0.06850284, 0.0657629 , 0.06411894]),\n",
       " array([0.06850284, 0.06877681, 0.06959879, 0.0690508 , 0.06795482,\n",
       "        0.0657629 , 0.06521489, 0.06740686, 0.06740686, 0.06740686,\n",
       "        0.06850284, 0.0657629 , 0.06411894, 0.06137838]),\n",
       " array([0.06877681, 0.06959879, 0.0690508 , 0.06795482, 0.0657629 ,\n",
       "        0.06521489, 0.06740686, 0.06740686, 0.06740686, 0.06850284,\n",
       "        0.0657629 , 0.06411894, 0.06137838, 0.05973437]),\n",
       " array([0.06959879, 0.0690508 , 0.06795482, 0.0657629 , 0.06521489,\n",
       "        0.06740686, 0.06740686, 0.06740686, 0.06850284, 0.0657629 ,\n",
       "        0.06411894, 0.06137838, 0.05973437, 0.06137838]),\n",
       " array([0.0690508 , 0.06795482, 0.0657629 , 0.06521489, 0.06740686,\n",
       "        0.06740686, 0.06740686, 0.06850284, 0.0657629 , 0.06411894,\n",
       "        0.06137838, 0.05973437, 0.06137838, 0.06055636]),\n",
       " array([0.06795482, 0.0657629 , 0.06521489, 0.06740686, 0.06740686,\n",
       "        0.06740686, 0.06850284, 0.0657629 , 0.06411894, 0.06137838,\n",
       "        0.05973437, 0.06137838, 0.06055636, 0.06137838]),\n",
       " array([0.0657629 , 0.06521489, 0.06740686, 0.06740686, 0.06740686,\n",
       "        0.06850284, 0.0657629 , 0.06411894, 0.06137838, 0.05973437,\n",
       "        0.06137838, 0.06055636, 0.06137838, 0.06357031]),\n",
       " array([0.06521489, 0.06740686, 0.06740686, 0.06740686, 0.06850284,\n",
       "        0.0657629 , 0.06411894, 0.06137838, 0.05973437, 0.06137838,\n",
       "        0.06055636, 0.06137838, 0.06357031, 0.06466691]),\n",
       " array([0.06740686, 0.06740686, 0.06740686, 0.06850284, 0.0657629 ,\n",
       "        0.06411894, 0.06137838, 0.05973437, 0.06137838, 0.06055636,\n",
       "        0.06137838, 0.06357031, 0.06466691, 0.06521489]),\n",
       " array([0.06740686, 0.06740686, 0.06850284, 0.0657629 , 0.06411894,\n",
       "        0.06137838, 0.05973437, 0.06137838, 0.06055636, 0.06137838,\n",
       "        0.06357031, 0.06466691, 0.06521489, 0.06521489]),\n",
       " array([0.06740686, 0.06850284, 0.0657629 , 0.06411894, 0.06137838,\n",
       "        0.05973437, 0.06137838, 0.06055636, 0.06137838, 0.06357031,\n",
       "        0.06466691, 0.06521489, 0.06521489, 0.06740686]),\n",
       " array([0.06850284, 0.0657629 , 0.06411894, 0.06137838, 0.05973437,\n",
       "        0.06137838, 0.06055636, 0.06137838, 0.06357031, 0.06466691,\n",
       "        0.06521489, 0.06521489, 0.06740686, 0.0657629 ]),\n",
       " array([0.0657629 , 0.06411894, 0.06137838, 0.05973437, 0.06137838,\n",
       "        0.06055636, 0.06137838, 0.06357031, 0.06466691, 0.06521489,\n",
       "        0.06521489, 0.06740686, 0.0657629 , 0.06795482]),\n",
       " array([0.06411894, 0.06137838, 0.05973437, 0.06137838, 0.06055636,\n",
       "        0.06137838, 0.06357031, 0.06466691, 0.06521489, 0.06521489,\n",
       "        0.06740686, 0.0657629 , 0.06795482, 0.06850284]),\n",
       " array([0.06137838, 0.05973437, 0.06137838, 0.06055636, 0.06137838,\n",
       "        0.06357031, 0.06466691, 0.06521489, 0.06521489, 0.06740686,\n",
       "        0.0657629 , 0.06795482, 0.06850284, 0.0668589 ]),\n",
       " array([0.05973437, 0.06137838, 0.06055636, 0.06137838, 0.06357031,\n",
       "        0.06466691, 0.06521489, 0.06521489, 0.06740686, 0.0657629 ,\n",
       "        0.06795482, 0.06850284, 0.0668589 , 0.06521489]),\n",
       " array([0.06137838, 0.06055636, 0.06137838, 0.06357031, 0.06466691,\n",
       "        0.06521489, 0.06521489, 0.06740686, 0.0657629 , 0.06795482,\n",
       "        0.06850284, 0.0668589 , 0.06521489, 0.06302229]),\n",
       " array([0.06055636, 0.06137838, 0.06357031, 0.06466691, 0.06521489,\n",
       "        0.06521489, 0.06740686, 0.0657629 , 0.06795482, 0.06850284,\n",
       "        0.0668589 , 0.06521489, 0.06302229, 0.06247434])]"
      ]
     },
     "execution_count": 200,
     "metadata": {},
     "output_type": "execute_result"
    }
   ],
   "source": [
    "x_check"
   ]
  },
  {
   "cell_type": "code",
   "execution_count": 201,
   "metadata": {},
   "outputs": [
    {
     "data": {
      "text/plain": [
       "85"
      ]
     },
     "execution_count": 201,
     "metadata": {},
     "output_type": "execute_result"
    }
   ],
   "source": [
    "len(y_check)"
   ]
  },
  {
   "cell_type": "code",
   "execution_count": 202,
   "metadata": {},
   "outputs": [
    {
     "data": {
      "text/plain": [
       "(9051, 1)"
      ]
     },
     "execution_count": 202,
     "metadata": {},
     "output_type": "execute_result"
    }
   ],
   "source": [
    "df_for_training.shape"
   ]
  },
  {
   "cell_type": "code",
   "execution_count": 203,
   "metadata": {},
   "outputs": [],
   "source": [
    "df_for_training = df_for_training.values"
   ]
  },
  {
   "cell_type": "code",
   "execution_count": 204,
   "metadata": {},
   "outputs": [
    {
     "data": {
      "text/plain": [
       "array([[6.13783784e-02],\n",
       "       [6.35703132e-02],\n",
       "       [6.46669120e-02],\n",
       "       ...,\n",
       "       [3.01250000e+02],\n",
       "       [3.05940002e+02],\n",
       "       [3.00950012e+02]])"
      ]
     },
     "execution_count": 204,
     "metadata": {},
     "output_type": "execute_result"
    }
   ],
   "source": [
    "df_for_training"
   ]
  },
  {
   "cell_type": "code",
   "execution_count": 205,
   "metadata": {},
   "outputs": [],
   "source": [
    "for i in range(len(df_for_training)-n_past-1):\n",
    "\t\ta = df_for_training[i:(i+n_past), 0]   ###i=0, 0,1,2,3-----99   100 \n",
    "\t\ttrain_X.append(a)\n",
    "\t\ttrain_Y.append(df_for_training[i + n_past, 0])"
   ]
  },
  {
   "cell_type": "code",
   "execution_count": 206,
   "metadata": {},
   "outputs": [],
   "source": [
    "# for i in range(len(df_for_training) - n_future - 1):\n",
    "#     a = df_test.iloc[i:(i+n_past), 0]\n",
    "#     train_X.append(a)\n",
    "#     train.append(df.loc[n_past+i][1])"
   ]
  },
  {
   "cell_type": "code",
   "execution_count": 207,
   "metadata": {},
   "outputs": [],
   "source": [
    "# converting to array\n",
    "train_X = np.array(train_X)\n",
    "train_Y = np.array(train_Y)"
   ]
  },
  {
   "cell_type": "code",
   "execution_count": 208,
   "metadata": {},
   "outputs": [
    {
     "data": {
      "text/plain": [
       "array([6.08303510e-02, 6.08303510e-02, 5.97343706e-02, ...,\n",
       "       3.13459991e+02, 3.01250000e+02, 3.05940002e+02])"
      ]
     },
     "execution_count": 208,
     "metadata": {},
     "output_type": "execute_result"
    }
   ],
   "source": [
    "train_Y"
   ]
  },
  {
   "cell_type": "code",
   "execution_count": 209,
   "metadata": {},
   "outputs": [
    {
     "name": "stdout",
     "output_type": "stream",
     "text": [
      "(9036, 14)\n",
      "(9036,)\n"
     ]
    }
   ],
   "source": [
    "print(train_X.shape)\n",
    "print(train_Y.shape)"
   ]
  },
  {
   "cell_type": "code",
   "execution_count": 210,
   "metadata": {},
   "outputs": [
    {
     "data": {
      "text/plain": [
       "(9036, 14, 1)"
      ]
     },
     "execution_count": 210,
     "metadata": {},
     "output_type": "execute_result"
    }
   ],
   "source": [
    "train_X = train_X.reshape(train_X.shape[0], train_X.shape[1], n_future)\n",
    "train_X.shape"
   ]
  },
  {
   "cell_type": "code",
   "execution_count": 211,
   "metadata": {},
   "outputs": [],
   "source": [
    "#bug\n",
    "#train_X[-90:]"
   ]
  },
  {
   "cell_type": "code",
   "execution_count": 212,
   "metadata": {},
   "outputs": [
    {
     "data": {
      "text/plain": [
       "(9036, 14, 1)"
      ]
     },
     "execution_count": 212,
     "metadata": {},
     "output_type": "execute_result"
    }
   ],
   "source": [
    "train_X.shape"
   ]
  },
  {
   "cell_type": "code",
   "execution_count": 213,
   "metadata": {},
   "outputs": [
    {
     "data": {
      "text/plain": [
       "(9036, 1)"
      ]
     },
     "execution_count": 213,
     "metadata": {},
     "output_type": "execute_result"
    }
   ],
   "source": [
    "train_Y = train_Y.reshape(train_Y.shape[0], n_future)\n",
    "train_Y.shape"
   ]
  },
  {
   "cell_type": "code",
   "execution_count": null,
   "metadata": {},
   "outputs": [],
   "source": []
  },
  {
   "cell_type": "markdown",
   "metadata": {},
   "source": [
    "### Building Model"
   ]
  },
  {
   "cell_type": "code",
   "execution_count": 214,
   "metadata": {},
   "outputs": [],
   "source": [
    "from tensorflow.keras.models import Sequential\n",
    "from tensorflow.keras.layers import Dense\n",
    "from tensorflow.keras.layers import LSTM"
   ]
  },
  {
   "cell_type": "code",
   "execution_count": 215,
   "metadata": {},
   "outputs": [],
   "source": [
    "model=Sequential()\n",
    "model.add(LSTM(50,activation = \"relu\", return_sequences=True,input_shape=(train_X.shape[1], train_X.shape[2])))\n",
    "model.add(LSTM(50,activation = \"relu\", return_sequences=True))\n",
    "model.add(LSTM(50, activation = \"relu\"))\n",
    "model.add(Dense(train_Y.shape[1]))\n",
    "model.compile(loss='mean_squared_error',optimizer='adam')\n"
   ]
  },
  {
   "cell_type": "code",
   "execution_count": 216,
   "metadata": {},
   "outputs": [
    {
     "name": "stdout",
     "output_type": "stream",
     "text": [
      "Model: \"sequential_1\"\n",
      "_________________________________________________________________\n",
      "Layer (type)                 Output Shape              Param #   \n",
      "=================================================================\n",
      "lstm_3 (LSTM)                (None, 14, 50)            10400     \n",
      "_________________________________________________________________\n",
      "lstm_4 (LSTM)                (None, 14, 50)            20200     \n",
      "_________________________________________________________________\n",
      "lstm_5 (LSTM)                (None, 50)                20200     \n",
      "_________________________________________________________________\n",
      "dense_1 (Dense)              (None, 1)                 51        \n",
      "=================================================================\n",
      "Total params: 50,851\n",
      "Trainable params: 50,851\n",
      "Non-trainable params: 0\n",
      "_________________________________________________________________\n"
     ]
    }
   ],
   "source": [
    "model.summary()\n"
   ]
  },
  {
   "cell_type": "code",
   "execution_count": 217,
   "metadata": {},
   "outputs": [],
   "source": [
    "# fiting model\n",
    "#hist = model.fit(train_X, train_Y, epochs=100, batch_size=10, validation_split=0.1, verbose=1)"
   ]
  },
  {
   "cell_type": "code",
   "execution_count": 218,
   "metadata": {},
   "outputs": [],
   "source": [
    "#model.save(\"stock_prediction_lstm.h5\")"
   ]
  },
  {
   "cell_type": "code",
   "execution_count": 219,
   "metadata": {},
   "outputs": [],
   "source": [
    "from tensorflow import keras\n",
    "model1 = keras.models.load_model(\"stock_prediction_lstm.h5\")"
   ]
  },
  {
   "cell_type": "code",
   "execution_count": 220,
   "metadata": {},
   "outputs": [
    {
     "name": "stdout",
     "output_type": "stream",
     "text": [
      "Model: \"sequential_2\"\n",
      "_________________________________________________________________\n",
      "Layer (type)                 Output Shape              Param #   \n",
      "=================================================================\n",
      "lstm_3 (LSTM)                (None, 14, 50)            10400     \n",
      "_________________________________________________________________\n",
      "lstm_4 (LSTM)                (None, 14, 50)            20200     \n",
      "_________________________________________________________________\n",
      "lstm_5 (LSTM)                (None, 50)                20200     \n",
      "_________________________________________________________________\n",
      "dense_1 (Dense)              (None, 1)                 51        \n",
      "=================================================================\n",
      "Total params: 50,851\n",
      "Trainable params: 50,851\n",
      "Non-trainable params: 0\n",
      "_________________________________________________________________\n"
     ]
    }
   ],
   "source": [
    "model1.summary()"
   ]
  },
  {
   "cell_type": "code",
   "execution_count": 221,
   "metadata": {},
   "outputs": [],
   "source": [
    "n_future = 90\n",
    "forecast_period_date = pd.date_range(list(training_dates)[-1], periods=n_future, freq=\"1d\").tolist()\n"
   ]
  },
  {
   "cell_type": "code",
   "execution_count": 266,
   "metadata": {},
   "outputs": [
    {
     "data": {
      "text/plain": [
       "[Timestamp('2022-02-07 00:00:00', freq='D'),\n",
       " Timestamp('2022-02-08 00:00:00', freq='D'),\n",
       " Timestamp('2022-02-09 00:00:00', freq='D'),\n",
       " Timestamp('2022-02-10 00:00:00', freq='D'),\n",
       " Timestamp('2022-02-11 00:00:00', freq='D'),\n",
       " Timestamp('2022-02-12 00:00:00', freq='D'),\n",
       " Timestamp('2022-02-13 00:00:00', freq='D'),\n",
       " Timestamp('2022-02-14 00:00:00', freq='D'),\n",
       " Timestamp('2022-02-15 00:00:00', freq='D'),\n",
       " Timestamp('2022-02-16 00:00:00', freq='D'),\n",
       " Timestamp('2022-02-17 00:00:00', freq='D'),\n",
       " Timestamp('2022-02-18 00:00:00', freq='D'),\n",
       " Timestamp('2022-02-19 00:00:00', freq='D'),\n",
       " Timestamp('2022-02-20 00:00:00', freq='D'),\n",
       " Timestamp('2022-02-21 00:00:00', freq='D'),\n",
       " Timestamp('2022-02-22 00:00:00', freq='D'),\n",
       " Timestamp('2022-02-23 00:00:00', freq='D'),\n",
       " Timestamp('2022-02-24 00:00:00', freq='D'),\n",
       " Timestamp('2022-02-25 00:00:00', freq='D'),\n",
       " Timestamp('2022-02-26 00:00:00', freq='D'),\n",
       " Timestamp('2022-02-27 00:00:00', freq='D'),\n",
       " Timestamp('2022-02-28 00:00:00', freq='D'),\n",
       " Timestamp('2022-03-01 00:00:00', freq='D'),\n",
       " Timestamp('2022-03-02 00:00:00', freq='D'),\n",
       " Timestamp('2022-03-03 00:00:00', freq='D'),\n",
       " Timestamp('2022-03-04 00:00:00', freq='D'),\n",
       " Timestamp('2022-03-05 00:00:00', freq='D'),\n",
       " Timestamp('2022-03-06 00:00:00', freq='D'),\n",
       " Timestamp('2022-03-07 00:00:00', freq='D'),\n",
       " Timestamp('2022-03-08 00:00:00', freq='D'),\n",
       " Timestamp('2022-03-09 00:00:00', freq='D'),\n",
       " Timestamp('2022-03-10 00:00:00', freq='D'),\n",
       " Timestamp('2022-03-11 00:00:00', freq='D'),\n",
       " Timestamp('2022-03-12 00:00:00', freq='D'),\n",
       " Timestamp('2022-03-13 00:00:00', freq='D'),\n",
       " Timestamp('2022-03-14 00:00:00', freq='D'),\n",
       " Timestamp('2022-03-15 00:00:00', freq='D'),\n",
       " Timestamp('2022-03-16 00:00:00', freq='D'),\n",
       " Timestamp('2022-03-17 00:00:00', freq='D'),\n",
       " Timestamp('2022-03-18 00:00:00', freq='D'),\n",
       " Timestamp('2022-03-19 00:00:00', freq='D'),\n",
       " Timestamp('2022-03-20 00:00:00', freq='D'),\n",
       " Timestamp('2022-03-21 00:00:00', freq='D'),\n",
       " Timestamp('2022-03-22 00:00:00', freq='D'),\n",
       " Timestamp('2022-03-23 00:00:00', freq='D'),\n",
       " Timestamp('2022-03-24 00:00:00', freq='D'),\n",
       " Timestamp('2022-03-25 00:00:00', freq='D'),\n",
       " Timestamp('2022-03-26 00:00:00', freq='D'),\n",
       " Timestamp('2022-03-27 00:00:00', freq='D'),\n",
       " Timestamp('2022-03-28 00:00:00', freq='D'),\n",
       " Timestamp('2022-03-29 00:00:00', freq='D'),\n",
       " Timestamp('2022-03-30 00:00:00', freq='D'),\n",
       " Timestamp('2022-03-31 00:00:00', freq='D'),\n",
       " Timestamp('2022-04-01 00:00:00', freq='D'),\n",
       " Timestamp('2022-04-02 00:00:00', freq='D'),\n",
       " Timestamp('2022-04-03 00:00:00', freq='D'),\n",
       " Timestamp('2022-04-04 00:00:00', freq='D'),\n",
       " Timestamp('2022-04-05 00:00:00', freq='D'),\n",
       " Timestamp('2022-04-06 00:00:00', freq='D'),\n",
       " Timestamp('2022-04-07 00:00:00', freq='D'),\n",
       " Timestamp('2022-04-08 00:00:00', freq='D'),\n",
       " Timestamp('2022-04-09 00:00:00', freq='D'),\n",
       " Timestamp('2022-04-10 00:00:00', freq='D'),\n",
       " Timestamp('2022-04-11 00:00:00', freq='D'),\n",
       " Timestamp('2022-04-12 00:00:00', freq='D'),\n",
       " Timestamp('2022-04-13 00:00:00', freq='D'),\n",
       " Timestamp('2022-04-14 00:00:00', freq='D'),\n",
       " Timestamp('2022-04-15 00:00:00', freq='D'),\n",
       " Timestamp('2022-04-16 00:00:00', freq='D'),\n",
       " Timestamp('2022-04-17 00:00:00', freq='D'),\n",
       " Timestamp('2022-04-18 00:00:00', freq='D'),\n",
       " Timestamp('2022-04-19 00:00:00', freq='D'),\n",
       " Timestamp('2022-04-20 00:00:00', freq='D'),\n",
       " Timestamp('2022-04-21 00:00:00', freq='D'),\n",
       " Timestamp('2022-04-22 00:00:00', freq='D'),\n",
       " Timestamp('2022-04-23 00:00:00', freq='D'),\n",
       " Timestamp('2022-04-24 00:00:00', freq='D'),\n",
       " Timestamp('2022-04-25 00:00:00', freq='D'),\n",
       " Timestamp('2022-04-26 00:00:00', freq='D'),\n",
       " Timestamp('2022-04-27 00:00:00', freq='D'),\n",
       " Timestamp('2022-04-28 00:00:00', freq='D'),\n",
       " Timestamp('2022-04-29 00:00:00', freq='D'),\n",
       " Timestamp('2022-04-30 00:00:00', freq='D'),\n",
       " Timestamp('2022-05-01 00:00:00', freq='D'),\n",
       " Timestamp('2022-05-02 00:00:00', freq='D'),\n",
       " Timestamp('2022-05-03 00:00:00', freq='D'),\n",
       " Timestamp('2022-05-04 00:00:00', freq='D'),\n",
       " Timestamp('2022-05-05 00:00:00', freq='D'),\n",
       " Timestamp('2022-05-06 00:00:00', freq='D'),\n",
       " Timestamp('2022-05-07 00:00:00', freq='D')]"
      ]
     },
     "execution_count": 266,
     "metadata": {},
     "output_type": "execute_result"
    }
   ],
   "source": [
    "forecast_period_date"
   ]
  },
  {
   "cell_type": "code",
   "execution_count": 223,
   "metadata": {},
   "outputs": [
    {
     "data": {
      "text/plain": [
       "array([[[296.70718384],\n",
       "        [295.16998291],\n",
       "        [296.44763184],\n",
       "        ...,\n",
       "        [298.80334473],\n",
       "        [293.6328125 ],\n",
       "        [283.00222778]],\n",
       "\n",
       "       [[295.16998291],\n",
       "        [296.44763184],\n",
       "        [299.24255371],\n",
       "        ...,\n",
       "        [293.6328125 ],\n",
       "        [283.00222778],\n",
       "        [283.48135376]],\n",
       "\n",
       "       [[296.44763184],\n",
       "        [299.24255371],\n",
       "        [304.2633667 ],\n",
       "        ...,\n",
       "        [283.00222778],\n",
       "        [283.48135376],\n",
       "        [281.40518188]],\n",
       "\n",
       "       ...,\n",
       "\n",
       "       [[318.26998901],\n",
       "        [304.79998779],\n",
       "        [310.20001221],\n",
       "        ...,\n",
       "        [308.26000977],\n",
       "        [310.98001099],\n",
       "        [308.76000977]],\n",
       "\n",
       "       [[304.79998779],\n",
       "        [310.20001221],\n",
       "        [302.6499939 ],\n",
       "        ...,\n",
       "        [310.98001099],\n",
       "        [308.76000977],\n",
       "        [313.45999146]],\n",
       "\n",
       "       [[310.20001221],\n",
       "        [302.6499939 ],\n",
       "        [303.32998657],\n",
       "        ...,\n",
       "        [308.76000977],\n",
       "        [313.45999146],\n",
       "        [301.25      ]]])"
      ]
     },
     "execution_count": 223,
     "metadata": {},
     "output_type": "execute_result"
    }
   ],
   "source": [
    "train_X[- n_future:]"
   ]
  },
  {
   "cell_type": "code",
   "execution_count": 224,
   "metadata": {},
   "outputs": [],
   "source": [
    "#a = [ i for i in range(100)]"
   ]
  },
  {
   "cell_type": "code",
   "execution_count": 225,
   "metadata": {},
   "outputs": [],
   "source": [
    "#a = np.reshape(a, (-1, 1))"
   ]
  },
  {
   "cell_type": "code",
   "execution_count": 226,
   "metadata": {},
   "outputs": [],
   "source": [
    "#a = sc.transform(a)"
   ]
  },
  {
   "cell_type": "code",
   "execution_count": 227,
   "metadata": {},
   "outputs": [],
   "source": [
    "#a[90:]"
   ]
  },
  {
   "cell_type": "code",
   "execution_count": 228,
   "metadata": {},
   "outputs": [
    {
     "data": {
      "text/plain": [
       "array([[[6.13783784e-02],\n",
       "        [6.35703132e-02],\n",
       "        [6.46669120e-02],\n",
       "        ...,\n",
       "        [6.02823831e-02],\n",
       "        [5.97343706e-02],\n",
       "        [6.02823831e-02]],\n",
       "\n",
       "       [[6.35703132e-02],\n",
       "        [6.46669120e-02],\n",
       "        [6.30222857e-02],\n",
       "        ...,\n",
       "        [5.97343706e-02],\n",
       "        [6.02823831e-02],\n",
       "        [6.08303510e-02]],\n",
       "\n",
       "       [[6.46669120e-02],\n",
       "        [6.30222857e-02],\n",
       "        [6.19263500e-02],\n",
       "        ...,\n",
       "        [6.02823831e-02],\n",
       "        [6.08303510e-02],\n",
       "        [6.08303510e-02]],\n",
       "\n",
       "       ...,\n",
       "\n",
       "       [[3.18269989e+02],\n",
       "        [3.04799988e+02],\n",
       "        [3.10200012e+02],\n",
       "        ...,\n",
       "        [3.08260010e+02],\n",
       "        [3.10980011e+02],\n",
       "        [3.08760010e+02]],\n",
       "\n",
       "       [[3.04799988e+02],\n",
       "        [3.10200012e+02],\n",
       "        [3.02649994e+02],\n",
       "        ...,\n",
       "        [3.10980011e+02],\n",
       "        [3.08760010e+02],\n",
       "        [3.13459991e+02]],\n",
       "\n",
       "       [[3.10200012e+02],\n",
       "        [3.02649994e+02],\n",
       "        [3.03329987e+02],\n",
       "        ...,\n",
       "        [3.08760010e+02],\n",
       "        [3.13459991e+02],\n",
       "        [3.01250000e+02]]])"
      ]
     },
     "execution_count": 228,
     "metadata": {},
     "output_type": "execute_result"
    }
   ],
   "source": [
    "#-n_future\n",
    "train_X"
   ]
  },
  {
   "cell_type": "code",
   "execution_count": 229,
   "metadata": {},
   "outputs": [
    {
     "data": {
      "text/plain": [
       "8946"
      ]
     },
     "execution_count": 229,
     "metadata": {},
     "output_type": "execute_result"
    }
   ],
   "source": [
    "len(train_X)-90"
   ]
  },
  {
   "cell_type": "code",
   "execution_count": 230,
   "metadata": {},
   "outputs": [],
   "source": [
    "df_forcast = train_X[8946:]"
   ]
  },
  {
   "cell_type": "code",
   "execution_count": 231,
   "metadata": {},
   "outputs": [
    {
     "data": {
      "text/plain": [
       "array([[[296.70718384],\n",
       "        [295.16998291],\n",
       "        [296.44763184],\n",
       "        ...,\n",
       "        [298.80334473],\n",
       "        [293.6328125 ],\n",
       "        [283.00222778]],\n",
       "\n",
       "       [[295.16998291],\n",
       "        [296.44763184],\n",
       "        [299.24255371],\n",
       "        ...,\n",
       "        [293.6328125 ],\n",
       "        [283.00222778],\n",
       "        [283.48135376]],\n",
       "\n",
       "       [[296.44763184],\n",
       "        [299.24255371],\n",
       "        [304.2633667 ],\n",
       "        ...,\n",
       "        [283.00222778],\n",
       "        [283.48135376],\n",
       "        [281.40518188]],\n",
       "\n",
       "       ...,\n",
       "\n",
       "       [[318.26998901],\n",
       "        [304.79998779],\n",
       "        [310.20001221],\n",
       "        ...,\n",
       "        [308.26000977],\n",
       "        [310.98001099],\n",
       "        [308.76000977]],\n",
       "\n",
       "       [[304.79998779],\n",
       "        [310.20001221],\n",
       "        [302.6499939 ],\n",
       "        ...,\n",
       "        [310.98001099],\n",
       "        [308.76000977],\n",
       "        [313.45999146]],\n",
       "\n",
       "       [[310.20001221],\n",
       "        [302.6499939 ],\n",
       "        [303.32998657],\n",
       "        ...,\n",
       "        [308.76000977],\n",
       "        [313.45999146],\n",
       "        [301.25      ]]])"
      ]
     },
     "execution_count": 231,
     "metadata": {},
     "output_type": "execute_result"
    }
   ],
   "source": [
    "df_forcast"
   ]
  },
  {
   "cell_type": "code",
   "execution_count": 232,
   "metadata": {},
   "outputs": [
    {
     "data": {
      "text/plain": [
       "(90, 14, 1)"
      ]
     },
     "execution_count": 232,
     "metadata": {},
     "output_type": "execute_result"
    }
   ],
   "source": [
    "df_forcast.shape\n"
   ]
  },
  {
   "cell_type": "code",
   "execution_count": 233,
   "metadata": {},
   "outputs": [
    {
     "data": {
      "text/plain": [
       "array([[296.70718384, 295.16998291, 296.44763184, ..., 298.80334473,\n",
       "        293.6328125 , 283.00222778],\n",
       "       [295.16998291, 296.44763184, 299.24255371, ..., 293.6328125 ,\n",
       "        283.00222778, 283.48135376],\n",
       "       [296.44763184, 299.24255371, 304.2633667 , ..., 283.00222778,\n",
       "        283.48135376, 281.40518188],\n",
       "       ...,\n",
       "       [318.26998901, 304.79998779, 310.20001221, ..., 308.26000977,\n",
       "        310.98001099, 308.76000977],\n",
       "       [304.79998779, 310.20001221, 302.6499939 , ..., 310.98001099,\n",
       "        308.76000977, 313.45999146],\n",
       "       [310.20001221, 302.6499939 , 303.32998657, ..., 308.76000977,\n",
       "        313.45999146, 301.25      ]])"
      ]
     },
     "execution_count": 233,
     "metadata": {},
     "output_type": "execute_result"
    }
   ],
   "source": [
    "df = df_forcast.reshape(df_forcast.shape[0], df_forcast.shape[1] *  df_forcast.shape[2])\n",
    "df"
   ]
  },
  {
   "cell_type": "code",
   "execution_count": 234,
   "metadata": {},
   "outputs": [
    {
     "data": {
      "text/plain": [
       "(90, 14)"
      ]
     },
     "execution_count": 234,
     "metadata": {},
     "output_type": "execute_result"
    }
   ],
   "source": [
    "df.shape"
   ]
  },
  {
   "cell_type": "code",
   "execution_count": 235,
   "metadata": {},
   "outputs": [],
   "source": [
    "df = pd.DataFrame(df)"
   ]
  },
  {
   "cell_type": "code",
   "execution_count": 236,
   "metadata": {},
   "outputs": [
    {
     "data": {
      "text/plain": [
       "pandas.core.frame.DataFrame"
      ]
     },
     "execution_count": 236,
     "metadata": {},
     "output_type": "execute_result"
    }
   ],
   "source": [
    "type(df)"
   ]
  },
  {
   "cell_type": "code",
   "execution_count": 237,
   "metadata": {},
   "outputs": [
    {
     "data": {
      "text/plain": [
       "RangeIndex(start=0, stop=14, step=1)"
      ]
     },
     "execution_count": 237,
     "metadata": {},
     "output_type": "execute_result"
    }
   ],
   "source": [
    "df.columns"
   ]
  },
  {
   "cell_type": "code",
   "execution_count": 238,
   "metadata": {},
   "outputs": [],
   "source": [
    "# df_forcast = df_forcast.reshape(df_forcast.shape[0], df_forcast.shape[1] *  df_forcast.shape[2])\n",
    "# df_forcast"
   ]
  },
  {
   "cell_type": "code",
   "execution_count": 239,
   "metadata": {},
   "outputs": [
    {
     "data": {
      "text/plain": [
       "(90, 14, 1)"
      ]
     },
     "execution_count": 239,
     "metadata": {},
     "output_type": "execute_result"
    }
   ],
   "source": [
    "df_forcast.shape"
   ]
  },
  {
   "cell_type": "code",
   "execution_count": 240,
   "metadata": {},
   "outputs": [],
   "source": [
    "#df_forcast = sc.transform(df_forcast)"
   ]
  },
  {
   "cell_type": "code",
   "execution_count": 241,
   "metadata": {},
   "outputs": [],
   "source": [
    "# test = train_X[-n_future:]"
   ]
  },
  {
   "cell_type": "code",
   "execution_count": 242,
   "metadata": {},
   "outputs": [],
   "source": [
    "# type(test)"
   ]
  },
  {
   "cell_type": "code",
   "execution_count": 256,
   "metadata": {},
   "outputs": [
    {
     "data": {
      "text/plain": [
       "array([[285.34784],\n",
       "       [282.7851 ],\n",
       "       [279.0868 ],\n",
       "       [274.8396 ],\n",
       "       [272.928  ],\n",
       "       [276.407  ],\n",
       "       [278.69943],\n",
       "       [280.9437 ],\n",
       "       [287.90414],\n",
       "       [284.9684 ],\n",
       "       [285.5265 ],\n",
       "       [287.50696],\n",
       "       [290.87692],\n",
       "       [294.13113],\n",
       "       [296.32837],\n",
       "       [300.28366],\n",
       "       [302.66205],\n",
       "       [303.90976],\n",
       "       [305.5488 ],\n",
       "       [304.64175],\n",
       "       [303.08112],\n",
       "       [303.74548],\n",
       "       [312.1557 ],\n",
       "       [315.09503],\n",
       "       [319.17035],\n",
       "       [321.5318 ],\n",
       "       [324.883  ],\n",
       "       [325.8398 ],\n",
       "       [327.22443],\n",
       "       [329.76486],\n",
       "       [331.97604],\n",
       "       [331.5924 ],\n",
       "       [328.67413],\n",
       "       [323.2504 ],\n",
       "       [322.77026],\n",
       "       [323.59308],\n",
       "       [324.55215],\n",
       "       [326.83536],\n",
       "       [333.64325],\n",
       "       [333.25244],\n",
       "       [331.26257],\n",
       "       [328.13763],\n",
       "       [325.5848 ],\n",
       "       [323.88013],\n",
       "       [322.81314],\n",
       "       [322.54678],\n",
       "       [321.8525 ],\n",
       "       [319.30447],\n",
       "       [318.85355],\n",
       "       [315.52344],\n",
       "       [320.4202 ],\n",
       "       [320.0818 ],\n",
       "       [323.2272 ],\n",
       "       [328.94513],\n",
       "       [334.5971 ],\n",
       "       [325.97293],\n",
       "       [320.87476],\n",
       "       [318.28357],\n",
       "       [317.3368 ],\n",
       "       [314.99774],\n",
       "       [315.98297],\n",
       "       [318.2879 ],\n",
       "       [322.2496 ],\n",
       "       [328.75998],\n",
       "       [332.7489 ],\n",
       "       [339.3682 ],\n",
       "       [336.1438 ],\n",
       "       [332.07306],\n",
       "       [323.85345],\n",
       "       [319.3985 ],\n",
       "       [315.66586],\n",
       "       [311.7134 ],\n",
       "       [305.45526],\n",
       "       [303.6557 ],\n",
       "       [302.7677 ],\n",
       "       [301.57437],\n",
       "       [302.6665 ],\n",
       "       [297.80914],\n",
       "       [295.15237],\n",
       "       [291.52014],\n",
       "       [288.89847],\n",
       "       [290.76727],\n",
       "       [286.4611 ],\n",
       "       [287.33203],\n",
       "       [285.95978],\n",
       "       [288.84344],\n",
       "       [293.38293],\n",
       "       [295.43726],\n",
       "       [305.84125],\n",
       "       [308.3117 ]], dtype=float32)"
      ]
     },
     "execution_count": 256,
     "metadata": {},
     "output_type": "execute_result"
    }
   ],
   "source": [
    "forecast = model1.predict(train_X[-n_future:])\n",
    "forecast"
   ]
  },
  {
   "cell_type": "code",
   "execution_count": 257,
   "metadata": {},
   "outputs": [
    {
     "data": {
      "text/plain": [
       "(90, 1)"
      ]
     },
     "execution_count": 257,
     "metadata": {},
     "output_type": "execute_result"
    }
   ],
   "source": [
    "forecast.shape"
   ]
  },
  {
   "cell_type": "code",
   "execution_count": 274,
   "metadata": {},
   "outputs": [],
   "source": [
    "forecast_copies = np.repeat(forecast, df_for_training.shape[1], axis = 1)\n",
    "y_pred_future = forecast_copies"
   ]
  },
  {
   "cell_type": "code",
   "execution_count": 263,
   "metadata": {},
   "outputs": [
    {
     "data": {
      "text/plain": [
       "array([285.34784, 282.7851 , 279.0868 , 274.8396 , 272.928  , 276.407  ,\n",
       "       278.69943, 280.9437 , 287.90414, 284.9684 , 285.5265 , 287.50696,\n",
       "       290.87692, 294.13113, 296.32837, 300.28366, 302.66205, 303.90976,\n",
       "       305.5488 , 304.64175, 303.08112, 303.74548, 312.1557 , 315.09503,\n",
       "       319.17035, 321.5318 , 324.883  , 325.8398 , 327.22443, 329.76486,\n",
       "       331.97604, 331.5924 , 328.67413, 323.2504 , 322.77026, 323.59308,\n",
       "       324.55215, 326.83536, 333.64325, 333.25244, 331.26257, 328.13763,\n",
       "       325.5848 , 323.88013, 322.81314, 322.54678, 321.8525 , 319.30447,\n",
       "       318.85355, 315.52344, 320.4202 , 320.0818 , 323.2272 , 328.94513,\n",
       "       334.5971 , 325.97293, 320.87476, 318.28357, 317.3368 , 314.99774,\n",
       "       315.98297, 318.2879 , 322.2496 , 328.75998, 332.7489 , 339.3682 ,\n",
       "       336.1438 , 332.07306, 323.85345, 319.3985 , 315.66586, 311.7134 ,\n",
       "       305.45526, 303.6557 , 302.7677 , 301.57437, 302.6665 , 297.80914,\n",
       "       295.15237, 291.52014, 288.89847, 290.76727, 286.4611 , 287.33203,\n",
       "       285.95978, 288.84344, 293.38293, 295.43726, 305.84125, 308.3117 ],\n",
       "      dtype=float32)"
      ]
     },
     "execution_count": 263,
     "metadata": {},
     "output_type": "execute_result"
    }
   ],
   "source": [
    "forecast_copies[:,0]"
   ]
  },
  {
   "cell_type": "code",
   "execution_count": 252,
   "metadata": {},
   "outputs": [],
   "source": [
    "#y_pred_future = sc.inverse_transform(forecast_copies)[:,0]"
   ]
  },
  {
   "cell_type": "code",
   "execution_count": 253,
   "metadata": {},
   "outputs": [],
   "source": [
    "#y_pred_future"
   ]
  },
  {
   "cell_type": "code",
   "execution_count": 271,
   "metadata": {},
   "outputs": [
    {
     "data": {
      "text/plain": [
       "datetime.date(2022, 2, 7)"
      ]
     },
     "execution_count": 271,
     "metadata": {},
     "output_type": "execute_result"
    }
   ],
   "source": [
    "forecast_period_date[0].date()"
   ]
  },
  {
   "cell_type": "code",
   "execution_count": 272,
   "metadata": {},
   "outputs": [],
   "source": [
    "forecast_dates = []\n",
    "for time_i in forecast_period_date:\n",
    "   forecast_dates.append(time_i.date())\n"
   ]
  },
  {
   "cell_type": "code",
   "execution_count": 273,
   "metadata": {},
   "outputs": [
    {
     "data": {
      "text/plain": [
       "[datetime.date(2022, 2, 7),\n",
       " datetime.date(2022, 2, 8),\n",
       " datetime.date(2022, 2, 9),\n",
       " datetime.date(2022, 2, 10),\n",
       " datetime.date(2022, 2, 11),\n",
       " datetime.date(2022, 2, 12),\n",
       " datetime.date(2022, 2, 13),\n",
       " datetime.date(2022, 2, 14),\n",
       " datetime.date(2022, 2, 15),\n",
       " datetime.date(2022, 2, 16),\n",
       " datetime.date(2022, 2, 17),\n",
       " datetime.date(2022, 2, 18),\n",
       " datetime.date(2022, 2, 19),\n",
       " datetime.date(2022, 2, 20),\n",
       " datetime.date(2022, 2, 21),\n",
       " datetime.date(2022, 2, 22),\n",
       " datetime.date(2022, 2, 23),\n",
       " datetime.date(2022, 2, 24),\n",
       " datetime.date(2022, 2, 25),\n",
       " datetime.date(2022, 2, 26),\n",
       " datetime.date(2022, 2, 27),\n",
       " datetime.date(2022, 2, 28),\n",
       " datetime.date(2022, 3, 1),\n",
       " datetime.date(2022, 3, 2),\n",
       " datetime.date(2022, 3, 3),\n",
       " datetime.date(2022, 3, 4),\n",
       " datetime.date(2022, 3, 5),\n",
       " datetime.date(2022, 3, 6),\n",
       " datetime.date(2022, 3, 7),\n",
       " datetime.date(2022, 3, 8),\n",
       " datetime.date(2022, 3, 9),\n",
       " datetime.date(2022, 3, 10),\n",
       " datetime.date(2022, 3, 11),\n",
       " datetime.date(2022, 3, 12),\n",
       " datetime.date(2022, 3, 13),\n",
       " datetime.date(2022, 3, 14),\n",
       " datetime.date(2022, 3, 15),\n",
       " datetime.date(2022, 3, 16),\n",
       " datetime.date(2022, 3, 17),\n",
       " datetime.date(2022, 3, 18),\n",
       " datetime.date(2022, 3, 19),\n",
       " datetime.date(2022, 3, 20),\n",
       " datetime.date(2022, 3, 21),\n",
       " datetime.date(2022, 3, 22),\n",
       " datetime.date(2022, 3, 23),\n",
       " datetime.date(2022, 3, 24),\n",
       " datetime.date(2022, 3, 25),\n",
       " datetime.date(2022, 3, 26),\n",
       " datetime.date(2022, 3, 27),\n",
       " datetime.date(2022, 3, 28),\n",
       " datetime.date(2022, 3, 29),\n",
       " datetime.date(2022, 3, 30),\n",
       " datetime.date(2022, 3, 31),\n",
       " datetime.date(2022, 4, 1),\n",
       " datetime.date(2022, 4, 2),\n",
       " datetime.date(2022, 4, 3),\n",
       " datetime.date(2022, 4, 4),\n",
       " datetime.date(2022, 4, 5),\n",
       " datetime.date(2022, 4, 6),\n",
       " datetime.date(2022, 4, 7),\n",
       " datetime.date(2022, 4, 8),\n",
       " datetime.date(2022, 4, 9),\n",
       " datetime.date(2022, 4, 10),\n",
       " datetime.date(2022, 4, 11),\n",
       " datetime.date(2022, 4, 12),\n",
       " datetime.date(2022, 4, 13),\n",
       " datetime.date(2022, 4, 14),\n",
       " datetime.date(2022, 4, 15),\n",
       " datetime.date(2022, 4, 16),\n",
       " datetime.date(2022, 4, 17),\n",
       " datetime.date(2022, 4, 18),\n",
       " datetime.date(2022, 4, 19),\n",
       " datetime.date(2022, 4, 20),\n",
       " datetime.date(2022, 4, 21),\n",
       " datetime.date(2022, 4, 22),\n",
       " datetime.date(2022, 4, 23),\n",
       " datetime.date(2022, 4, 24),\n",
       " datetime.date(2022, 4, 25),\n",
       " datetime.date(2022, 4, 26),\n",
       " datetime.date(2022, 4, 27),\n",
       " datetime.date(2022, 4, 28),\n",
       " datetime.date(2022, 4, 29),\n",
       " datetime.date(2022, 4, 30),\n",
       " datetime.date(2022, 5, 1),\n",
       " datetime.date(2022, 5, 2),\n",
       " datetime.date(2022, 5, 3),\n",
       " datetime.date(2022, 5, 4),\n",
       " datetime.date(2022, 5, 5),\n",
       " datetime.date(2022, 5, 6),\n",
       " datetime.date(2022, 5, 7)]"
      ]
     },
     "execution_count": 273,
     "metadata": {},
     "output_type": "execute_result"
    }
   ],
   "source": [
    "forecast_dates"
   ]
  },
  {
   "cell_type": "code",
   "execution_count": 278,
   "metadata": {},
   "outputs": [
    {
     "data": {
      "image/png": "[encoded data removed]",
      "text/plain": [
       "<Figure size 432x288 with 1 Axes>"
      ]
     },
     "metadata": {
      "needs_background": "light"
     },
     "output_type": "display_data"
    }
   ],
   "source": [
    "plt.plot(forecast_dates,  y_pred_future)\n",
    "plt.xticks(rotation=45)\n",
    "plt.show()"
   ]
  },
  {
   "cell_type": "code",
   "execution_count": 285,
   "metadata": {},
   "outputs": [],
   "source": [
    "y_pred_future = y_pred_future.flatten()"
   ]
  },
  {
   "cell_type": "code",
   "execution_count": 286,
   "metadata": {},
   "outputs": [],
   "source": [
    "df_future = pd.DataFrame({\"Date\":np.array(forecast_dates), \"Close\":y_pred_future})"
   ]
  },
  {
   "cell_type": "code",
   "execution_count": 291,
   "metadata": {},
   "outputs": [],
   "source": [
    "df_future[\"Date\"] = pd.to_datetime(df_future[\"Date\"])"
   ]
  },
  {
   "cell_type": "code",
   "execution_count": 292,
   "metadata": {},
   "outputs": [
    {
     "data": {
      "text/html": [
       "<div>\n",
       "<style scoped>\n",
       "    .dataframe tbody tr th:only-of-type {\n",
       "        vertical-align: middle;\n",
       "    }\n",
       "\n",
       "    .dataframe tbody tr th {\n",
       "        vertical-align: top;\n",
       "    }\n",
       "\n",
       "    .dataframe thead th {\n",
       "        text-align: right;\n",
       "    }\n",
       "</style>\n",
       "<table border=\"1\" class=\"dataframe\">\n",
       "  <thead>\n",
       "    <tr style=\"text-align: right;\">\n",
       "      <th></th>\n",
       "      <th>Date</th>\n",
       "      <th>Close</th>\n",
       "    </tr>\n",
       "  </thead>\n",
       "  <tbody>\n",
       "    <tr>\n",
       "      <th>0</th>\n",
       "      <td>2022-02-07</td>\n",
       "      <td>285.347839</td>\n",
       "    </tr>\n",
       "    <tr>\n",
       "      <th>1</th>\n",
       "      <td>2022-02-08</td>\n",
       "      <td>282.785095</td>\n",
       "    </tr>\n",
       "    <tr>\n",
       "      <th>2</th>\n",
       "      <td>2022-02-09</td>\n",
       "      <td>279.086792</td>\n",
       "    </tr>\n",
       "    <tr>\n",
       "      <th>3</th>\n",
       "      <td>2022-02-10</td>\n",
       "      <td>274.839600</td>\n",
       "    </tr>\n",
       "    <tr>\n",
       "      <th>4</th>\n",
       "      <td>2022-02-11</td>\n",
       "      <td>272.928009</td>\n",
       "    </tr>\n",
       "    <tr>\n",
       "      <th>...</th>\n",
       "      <td>...</td>\n",
       "      <td>...</td>\n",
       "    </tr>\n",
       "    <tr>\n",
       "      <th>85</th>\n",
       "      <td>2022-05-03</td>\n",
       "      <td>288.843445</td>\n",
       "    </tr>\n",
       "    <tr>\n",
       "      <th>86</th>\n",
       "      <td>2022-05-04</td>\n",
       "      <td>293.382935</td>\n",
       "    </tr>\n",
       "    <tr>\n",
       "      <th>87</th>\n",
       "      <td>2022-05-05</td>\n",
       "      <td>295.437256</td>\n",
       "    </tr>\n",
       "    <tr>\n",
       "      <th>88</th>\n",
       "      <td>2022-05-06</td>\n",
       "      <td>305.841248</td>\n",
       "    </tr>\n",
       "    <tr>\n",
       "      <th>89</th>\n",
       "      <td>2022-05-07</td>\n",
       "      <td>308.311707</td>\n",
       "    </tr>\n",
       "  </tbody>\n",
       "</table>\n",
       "<p>90 rows × 2 columns</p>\n",
       "</div>"
      ],
      "text/plain": [
       "         Date       Close\n",
       "0  2022-02-07  285.347839\n",
       "1  2022-02-08  282.785095\n",
       "2  2022-02-09  279.086792\n",
       "3  2022-02-10  274.839600\n",
       "4  2022-02-11  272.928009\n",
       "..        ...         ...\n",
       "85 2022-05-03  288.843445\n",
       "86 2022-05-04  293.382935\n",
       "87 2022-05-05  295.437256\n",
       "88 2022-05-06  305.841248\n",
       "89 2022-05-07  308.311707\n",
       "\n",
       "[90 rows x 2 columns]"
      ]
     },
     "execution_count": 292,
     "metadata": {},
     "output_type": "execute_result"
    }
   ],
   "source": [
    "df_future"
   ]
  },
  {
   "cell_type": "code",
   "execution_count": 293,
   "metadata": {},
   "outputs": [
    {
     "data": {
      "text/html": [
       "<div>\n",
       "<style scoped>\n",
       "    .dataframe tbody tr th:only-of-type {\n",
       "        vertical-align: middle;\n",
       "    }\n",
       "\n",
       "    .dataframe tbody tr th {\n",
       "        vertical-align: top;\n",
       "    }\n",
       "\n",
       "    .dataframe thead th {\n",
       "        text-align: right;\n",
       "    }\n",
       "</style>\n",
       "<table border=\"1\" class=\"dataframe\">\n",
       "  <thead>\n",
       "    <tr style=\"text-align: right;\">\n",
       "      <th></th>\n",
       "      <th>0</th>\n",
       "      <th>1</th>\n",
       "      <th>2</th>\n",
       "      <th>3</th>\n",
       "      <th>4</th>\n",
       "      <th>5</th>\n",
       "      <th>6</th>\n",
       "      <th>7</th>\n",
       "      <th>8</th>\n",
       "      <th>9</th>\n",
       "      <th>10</th>\n",
       "      <th>11</th>\n",
       "      <th>12</th>\n",
       "      <th>13</th>\n",
       "    </tr>\n",
       "  </thead>\n",
       "  <tbody>\n",
       "    <tr>\n",
       "      <th>0</th>\n",
       "      <td>296.707184</td>\n",
       "      <td>295.169983</td>\n",
       "      <td>296.447632</td>\n",
       "      <td>299.242554</td>\n",
       "      <td>304.263367</td>\n",
       "      <td>304.662628</td>\n",
       "      <td>299.322388</td>\n",
       "      <td>293.762543</td>\n",
       "      <td>294.261627</td>\n",
       "      <td>298.034729</td>\n",
       "      <td>299.012939</td>\n",
       "      <td>298.803345</td>\n",
       "      <td>293.632812</td>\n",
       "      <td>283.002228</td>\n",
       "    </tr>\n",
       "    <tr>\n",
       "      <th>1</th>\n",
       "      <td>295.169983</td>\n",
       "      <td>296.447632</td>\n",
       "      <td>299.242554</td>\n",
       "      <td>304.263367</td>\n",
       "      <td>304.662628</td>\n",
       "      <td>299.322388</td>\n",
       "      <td>293.762543</td>\n",
       "      <td>294.261627</td>\n",
       "      <td>298.034729</td>\n",
       "      <td>299.012939</td>\n",
       "      <td>298.803345</td>\n",
       "      <td>293.632812</td>\n",
       "      <td>283.002228</td>\n",
       "      <td>283.481354</td>\n",
       "    </tr>\n",
       "    <tr>\n",
       "      <th>2</th>\n",
       "      <td>296.447632</td>\n",
       "      <td>299.242554</td>\n",
       "      <td>304.263367</td>\n",
       "      <td>304.662628</td>\n",
       "      <td>299.322388</td>\n",
       "      <td>293.762543</td>\n",
       "      <td>294.261627</td>\n",
       "      <td>298.034729</td>\n",
       "      <td>299.012939</td>\n",
       "      <td>298.803345</td>\n",
       "      <td>293.632812</td>\n",
       "      <td>283.002228</td>\n",
       "      <td>283.481354</td>\n",
       "      <td>281.405182</td>\n",
       "    </tr>\n",
       "    <tr>\n",
       "      <th>3</th>\n",
       "      <td>299.242554</td>\n",
       "      <td>304.263367</td>\n",
       "      <td>304.662628</td>\n",
       "      <td>299.322388</td>\n",
       "      <td>293.762543</td>\n",
       "      <td>294.261627</td>\n",
       "      <td>298.034729</td>\n",
       "      <td>299.012939</td>\n",
       "      <td>298.803345</td>\n",
       "      <td>293.632812</td>\n",
       "      <td>283.002228</td>\n",
       "      <td>283.481354</td>\n",
       "      <td>281.405182</td>\n",
       "      <td>288.572052</td>\n",
       "    </tr>\n",
       "    <tr>\n",
       "      <th>4</th>\n",
       "      <td>304.263367</td>\n",
       "      <td>304.662628</td>\n",
       "      <td>299.322388</td>\n",
       "      <td>293.762543</td>\n",
       "      <td>294.261627</td>\n",
       "      <td>298.034729</td>\n",
       "      <td>299.012939</td>\n",
       "      <td>298.803345</td>\n",
       "      <td>293.632812</td>\n",
       "      <td>283.002228</td>\n",
       "      <td>283.481354</td>\n",
       "      <td>281.405182</td>\n",
       "      <td>288.572052</td>\n",
       "      <td>282.592987</td>\n",
       "    </tr>\n",
       "  </tbody>\n",
       "</table>\n",
       "</div>"
      ],
      "text/plain": [
       "           0           1           2           3           4           5   \\\n",
       "0  296.707184  295.169983  296.447632  299.242554  304.263367  304.662628   \n",
       "1  295.169983  296.447632  299.242554  304.263367  304.662628  299.322388   \n",
       "2  296.447632  299.242554  304.263367  304.662628  299.322388  293.762543   \n",
       "3  299.242554  304.263367  304.662628  299.322388  293.762543  294.261627   \n",
       "4  304.263367  304.662628  299.322388  293.762543  294.261627  298.034729   \n",
       "\n",
       "           6           7           8           9           10          11  \\\n",
       "0  299.322388  293.762543  294.261627  298.034729  299.012939  298.803345   \n",
       "1  293.762543  294.261627  298.034729  299.012939  298.803345  293.632812   \n",
       "2  294.261627  298.034729  299.012939  298.803345  293.632812  283.002228   \n",
       "3  298.034729  299.012939  298.803345  293.632812  283.002228  283.481354   \n",
       "4  299.012939  298.803345  293.632812  283.002228  283.481354  281.405182   \n",
       "\n",
       "           12          13  \n",
       "0  293.632812  283.002228  \n",
       "1  283.002228  283.481354  \n",
       "2  283.481354  281.405182  \n",
       "3  281.405182  288.572052  \n",
       "4  288.572052  282.592987  "
      ]
     },
     "execution_count": 293,
     "metadata": {},
     "output_type": "execute_result"
    }
   ],
   "source": [
    "df.head()"
   ]
  },
  {
   "cell_type": "code",
   "execution_count": 297,
   "metadata": {},
   "outputs": [],
   "source": [
    "original = hist[\"Close\"]\n",
    "original = original.to_frame().reset_index()"
   ]
  },
  {
   "cell_type": "code",
   "execution_count": 299,
   "metadata": {},
   "outputs": [
    {
     "data": {
      "text/html": [
       "<div>\n",
       "<style scoped>\n",
       "    .dataframe tbody tr th:only-of-type {\n",
       "        vertical-align: middle;\n",
       "    }\n",
       "\n",
       "    .dataframe tbody tr th {\n",
       "        vertical-align: top;\n",
       "    }\n",
       "\n",
       "    .dataframe thead th {\n",
       "        text-align: right;\n",
       "    }\n",
       "</style>\n",
       "<table border=\"1\" class=\"dataframe\">\n",
       "  <thead>\n",
       "    <tr style=\"text-align: right;\">\n",
       "      <th></th>\n",
       "      <th>Date</th>\n",
       "      <th>Close</th>\n",
       "    </tr>\n",
       "  </thead>\n",
       "  <tbody>\n",
       "    <tr>\n",
       "      <th>0</th>\n",
       "      <td>1986-03-13</td>\n",
       "      <td>0.061378</td>\n",
       "    </tr>\n",
       "    <tr>\n",
       "      <th>1</th>\n",
       "      <td>1986-03-14</td>\n",
       "      <td>0.063570</td>\n",
       "    </tr>\n",
       "    <tr>\n",
       "      <th>2</th>\n",
       "      <td>1986-03-17</td>\n",
       "      <td>0.064667</td>\n",
       "    </tr>\n",
       "    <tr>\n",
       "      <th>3</th>\n",
       "      <td>1986-03-18</td>\n",
       "      <td>0.063022</td>\n",
       "    </tr>\n",
       "    <tr>\n",
       "      <th>4</th>\n",
       "      <td>1986-03-19</td>\n",
       "      <td>0.061926</td>\n",
       "    </tr>\n",
       "  </tbody>\n",
       "</table>\n",
       "</div>"
      ],
      "text/plain": [
       "        Date     Close\n",
       "0 1986-03-13  0.061378\n",
       "1 1986-03-14  0.063570\n",
       "2 1986-03-17  0.064667\n",
       "3 1986-03-18  0.063022\n",
       "4 1986-03-19  0.061926"
      ]
     },
     "execution_count": 299,
     "metadata": {},
     "output_type": "execute_result"
    }
   ],
   "source": [
    "original.head()"
   ]
  },
  {
   "cell_type": "code",
   "execution_count": 300,
   "metadata": {},
   "outputs": [
    {
     "data": {
      "text/html": [
       "<div>\n",
       "<style scoped>\n",
       "    .dataframe tbody tr th:only-of-type {\n",
       "        vertical-align: middle;\n",
       "    }\n",
       "\n",
       "    .dataframe tbody tr th {\n",
       "        vertical-align: top;\n",
       "    }\n",
       "\n",
       "    .dataframe thead th {\n",
       "        text-align: right;\n",
       "    }\n",
       "</style>\n",
       "<table border=\"1\" class=\"dataframe\">\n",
       "  <thead>\n",
       "    <tr style=\"text-align: right;\">\n",
       "      <th></th>\n",
       "      <th>Date</th>\n",
       "      <th>Close</th>\n",
       "    </tr>\n",
       "  </thead>\n",
       "  <tbody>\n",
       "    <tr>\n",
       "      <th>9046</th>\n",
       "      <td>2022-02-01</td>\n",
       "      <td>308.760010</td>\n",
       "    </tr>\n",
       "    <tr>\n",
       "      <th>9047</th>\n",
       "      <td>2022-02-02</td>\n",
       "      <td>313.459991</td>\n",
       "    </tr>\n",
       "    <tr>\n",
       "      <th>9048</th>\n",
       "      <td>2022-02-03</td>\n",
       "      <td>301.250000</td>\n",
       "    </tr>\n",
       "    <tr>\n",
       "      <th>9049</th>\n",
       "      <td>2022-02-04</td>\n",
       "      <td>305.940002</td>\n",
       "    </tr>\n",
       "    <tr>\n",
       "      <th>9050</th>\n",
       "      <td>2022-02-07</td>\n",
       "      <td>300.950012</td>\n",
       "    </tr>\n",
       "  </tbody>\n",
       "</table>\n",
       "</div>"
      ],
      "text/plain": [
       "           Date       Close\n",
       "9046 2022-02-01  308.760010\n",
       "9047 2022-02-02  313.459991\n",
       "9048 2022-02-03  301.250000\n",
       "9049 2022-02-04  305.940002\n",
       "9050 2022-02-07  300.950012"
      ]
     },
     "execution_count": 300,
     "metadata": {},
     "output_type": "execute_result"
    }
   ],
   "source": [
    "original.tail()"
   ]
  },
  {
   "cell_type": "code",
   "execution_count": 302,
   "metadata": {},
   "outputs": [
    {
     "data": {
      "text/plain": [
       "dtype('<M8[ns]')"
      ]
     },
     "execution_count": 302,
     "metadata": {},
     "output_type": "execute_result"
    }
   ],
   "source": [
    "original[\"Date\"].dtype"
   ]
  },
  {
   "cell_type": "code",
   "execution_count": 304,
   "metadata": {},
   "outputs": [],
   "source": [
    "#test[\"dates\"] = df_future[\"Date\"] + original[\"Date\"]"
   ]
  },
  {
   "cell_type": "code",
   "execution_count": 305,
   "metadata": {},
   "outputs": [
    {
     "data": {
      "text/plain": [
       "[<matplotlib.lines.Line2D at 0x1c5b7097190>]"
      ]
     },
     "execution_count": 305,
     "metadata": {},
     "output_type": "execute_result"
    },
    {
     "data": {
      "image/png": "[encoded data removed]",
      "text/plain": [
       "<Figure size 432x288 with 1 Axes>"
      ]
     },
     "metadata": {
      "needs_background": "light"
     },
     "output_type": "display_data"
    }
   ],
   "source": [
    "plt.plot(original[\"Date\"], original[\"Close\"])\n",
    "plt.plot(df_future[\"Date\"], df_future[\"Close\"])\n"
   ]
  },
  {
   "cell_type": "markdown",
   "metadata": {},
   "source": []
  }
 ],
 "metadata": {
  "interpreter": {
   "hash": "41e02fa9e6f67802ee52765a46a5361f864405f10fddd85900b0b50f8c028bf5"
  },
  "kernelspec": {
   "display_name": "Python 3",
   "language": "python",
   "name": "python3"
  },
  "language_info": {
   "codemirror_mode": {
    "name": "ipython",
    "version": 3
   },
   "file_extension": ".py",
   "mimetype": "text/x-python",
   "name": "python",
   "nbconvert_exporter": "python",
   "pygments_lexer": "ipython3",
   "version": "3.8.8"
  }
 },
 "nbformat": 4,
 "nbformat_minor": 2
}
